{
 "cells": [
  {
   "cell_type": "markdown",
   "id": "42a264df",
   "metadata": {},
   "source": [
    "# Creation of a Market-Making strategy\n",
    "\n",
    "The goal of this project is to create a market-making algorithm using an `order book dataset` and an associated `trade book dataset`.\n",
    "A market-making strategy consists essentially of submitting bid-ask quotes $(p_{t}^b, p_{t}^a)$ at period $t$ in order to `capture the bid-ask spread` if the two orders are filled over time.\n",
    "\n",
    "\n",
    "**The question is how to set the pair $(p_{t}^b, p_{t}^a)$ ?**\n",
    "### Game Plan:\n",
    "In this project, we will look into **two simple ideas**, or a **combination of the two**:\n",
    "\n",
    "- **Strategy-1:** Setting the bid and asks quotes as the same as (or at least very close as) the previous one we observed in the order book:\n",
    "$$\\big(p_{t-1}^{\\text{best bid}} - \\mu, \\, p_{t-1}^{\\text{best ask}} + \\mu \\big)$$\n",
    "with $\\mu$ a parameter to be calibrated using `historical data`. Typically, we'll take $\\mu = \\underbrace{\\sigma\\big( \\text{mid_price_return} \\big)}_{\\text{volatility}} \\sigma\\big(spread  \\big)$.\n",
    "\n",
    "- **Strategy-2:** Setting the bid and asks quotes around the last transaction price (denoted $p_{t-1}$)  which means setting  the bid-asks pair as:\n",
    "$$\\big(p_{t-1} - \\delta/2, \\,p_{t-1} + \\delta/2 \\big).$$ \n",
    "The fixed spread $\\delta$ would be determined for instance using historical data, taking the mean (or median) of the previous historical spreads, $\\delta = \\text{mean}\\big(spread \\big)$.\n",
    "\n",
    "**First remark:**\\\n",
    "Since this is a `high-frequency trading strategy`, we want to be `as close as possible to the real-time market`.\\\n",
    "So, we will alternate between the first idea and the second one, depending on the most recent data available:\n",
    "- For instance, if at time $t$ the most recent available data comes from the trade book (and not from the order book),\n",
    "we would opt for the second strategy idea, putting quotes around the last transaction price.\n",
    "- On the contrary, if the most recent available data comes from the order book, we will be using the first strategy and set bid and asks quotes to be very close to the ones we observed in the recent past.\n",
    "\n",
    "**Second remark:**\\\n",
    "Our strategy might be improved by taking into account short run price movement (price movement for the next period $t$). Indeed, we can put bid and ask quotes that try to follow the anticipated (short term) trend  (up trend or down trend):\n",
    "- if we anticipate the (mid) price to go up in the next period, we could set a more aggressive bid quote and a less aggressive ask quotes, for instance\n",
    "$$\\big(p_{t-1} - \\delta/4, \\,p_{t-1} + (3/4) \\delta \\big).$$\n",
    "- if we anticipate that the (mid) price to go down in the next period, we can suggest quotes as follows: \n",
    "$$\\big(p_{t-1} - (3/4)\\delta, \\,p_{t-1} +  \\delta/4 \\big).$$\n",
    "To do that we will analyse different features relative to the order book such as `order book pressure` and the `order book imbalance`.\\\n",
    "Especially looking at the impact it might have on the (mid-price) return.\n",
    "($ \\text{mid price} = \\frac{p^b_{\\text{best}} + p^a_{\\text{best}}}{2}$).\n",
    "\n",
    "Also, if the market is `trending`, it could result in `hitting too often only one side` of the order, and getting an `unbalanced inventory`.\n",
    "\n",
    "\n",
    "**Third remark:**\\\n",
    "Since the spread might be impacted by the volatility (of the mid price), it could be interesting to set the bid asks pair as a function of the volatility. \\\n",
    "At least we will look at the relationship between the `spread` and the `volatility` (\n",
    "standard deviation of the log (mid price) returns)."
   ]
  },
  {
   "cell_type": "markdown",
   "id": "2690208e",
   "metadata": {},
   "source": [
    "## Import `packages`"
   ]
  },
  {
   "cell_type": "code",
   "execution_count": 1,
   "id": "fe0abec3",
   "metadata": {},
   "outputs": [
    {
     "name": "stderr",
     "output_type": "stream",
     "text": [
      "/tmp/ipykernel_3964/909248147.py:19: MatplotlibDeprecationWarning: The seaborn styles shipped by Matplotlib are deprecated since 3.6, as they no longer correspond to the styles shipped by seaborn. However, they will remain available as 'seaborn-v0_8-<style>'. Alternatively, directly use the seaborn API instead.\n",
      "  plt.style.use(\"seaborn\")\n"
     ]
    }
   ],
   "source": [
    "import pandas as pd\n",
    "import numpy as np\n",
    "import matplotlib.pyplot as plt\n",
    "import json\n",
    "from os import listdir\n",
    "import ast\n",
    "from sklearn.linear_model import LinearRegression\n",
    "import statsmodels.api as sm\n",
    "import seaborn as sns\n",
    "from statsmodels.tsa.stattools import adfuller\n",
    "from statsmodels.graphics.tsaplots import plot_acf, plot_pacf\n",
    "from datetime import timedelta\n",
    "from datetime import datetime\n",
    "import gif\n",
    "\n",
    "gif.options.matplotlib[\"dpi\"] = 300\n",
    "\n",
    "\n",
    "plt.style.use(\"seaborn\")"
   ]
  },
  {
   "cell_type": "code",
   "execution_count": 2,
   "id": "4174e984",
   "metadata": {},
   "outputs": [
    {
     "data": {
      "application/javascript": [
       "\n",
       "            setTimeout(function() {\n",
       "                var nbb_cell_id = 2;\n",
       "                var nbb_unformatted_code = \"%load_ext nb_black\";\n",
       "                var nbb_formatted_code = \"%load_ext nb_black\";\n",
       "                var nbb_cells = Jupyter.notebook.get_cells();\n",
       "                for (var i = 0; i < nbb_cells.length; ++i) {\n",
       "                    if (nbb_cells[i].input_prompt_number == nbb_cell_id) {\n",
       "                        if (nbb_cells[i].get_text() == nbb_unformatted_code) {\n",
       "                             nbb_cells[i].set_text(nbb_formatted_code);\n",
       "                        }\n",
       "                        break;\n",
       "                    }\n",
       "                }\n",
       "            }, 500);\n",
       "            "
      ],
      "text/plain": [
       "<IPython.core.display.Javascript object>"
      ]
     },
     "metadata": {},
     "output_type": "display_data"
    }
   ],
   "source": [
    "%load_ext nb_black"
   ]
  },
  {
   "cell_type": "markdown",
   "id": "9378a60d",
   "metadata": {},
   "source": [
    "# Datasets\n",
    "1. `binance_iotab_btc_orderbooks`: All order books over a period of time of a token in JSON\n",
    "2. `trades.csv`: All trades on that same market over the same period.\n"
   ]
  },
  {
   "cell_type": "code",
   "execution_count": 3,
   "id": "cc641a49",
   "metadata": {},
   "outputs": [
    {
     "data": {
      "application/javascript": [
       "\n",
       "            setTimeout(function() {\n",
       "                var nbb_cell_id = 3;\n",
       "                var nbb_unformatted_code = \"order_book_folder = \\\"binance_iotabtc_orderbooks_json/\\\"\\norder_books_files = sorted(listdir(order_book_folder))\";\n",
       "                var nbb_formatted_code = \"order_book_folder = \\\"binance_iotabtc_orderbooks_json/\\\"\\norder_books_files = sorted(listdir(order_book_folder))\";\n",
       "                var nbb_cells = Jupyter.notebook.get_cells();\n",
       "                for (var i = 0; i < nbb_cells.length; ++i) {\n",
       "                    if (nbb_cells[i].input_prompt_number == nbb_cell_id) {\n",
       "                        if (nbb_cells[i].get_text() == nbb_unformatted_code) {\n",
       "                             nbb_cells[i].set_text(nbb_formatted_code);\n",
       "                        }\n",
       "                        break;\n",
       "                    }\n",
       "                }\n",
       "            }, 500);\n",
       "            "
      ],
      "text/plain": [
       "<IPython.core.display.Javascript object>"
      ]
     },
     "metadata": {},
     "output_type": "display_data"
    }
   ],
   "source": [
    "order_book_folder = \"binance_iotabtc_orderbooks_json/\"\n",
    "order_books_files = sorted(listdir(order_book_folder))"
   ]
  },
  {
   "cell_type": "markdown",
   "id": "7f9f78f8",
   "metadata": {},
   "source": [
    "# `Trades` Data\n"
   ]
  },
  {
   "cell_type": "code",
   "execution_count": 4,
   "id": "f284791d",
   "metadata": {},
   "outputs": [
    {
     "data": {
      "application/javascript": [
       "\n",
       "            setTimeout(function() {\n",
       "                var nbb_cell_id = 4;\n",
       "                var nbb_unformatted_code = \"trades = pd.read_csv(\\\"trades.csv\\\", sep=\\\",\\\", index_col=0)\";\n",
       "                var nbb_formatted_code = \"trades = pd.read_csv(\\\"trades.csv\\\", sep=\\\",\\\", index_col=0)\";\n",
       "                var nbb_cells = Jupyter.notebook.get_cells();\n",
       "                for (var i = 0; i < nbb_cells.length; ++i) {\n",
       "                    if (nbb_cells[i].input_prompt_number == nbb_cell_id) {\n",
       "                        if (nbb_cells[i].get_text() == nbb_unformatted_code) {\n",
       "                             nbb_cells[i].set_text(nbb_formatted_code);\n",
       "                        }\n",
       "                        break;\n",
       "                    }\n",
       "                }\n",
       "            }, 500);\n",
       "            "
      ],
      "text/plain": [
       "<IPython.core.display.Javascript object>"
      ]
     },
     "metadata": {},
     "output_type": "display_data"
    }
   ],
   "source": [
    "trades = pd.read_csv(\"trades.csv\", sep=\",\", index_col=0)"
   ]
  },
  {
   "cell_type": "code",
   "execution_count": 5,
   "id": "288cbc03",
   "metadata": {},
   "outputs": [
    {
     "data": {
      "text/html": [
       "<div>\n",
       "<style scoped>\n",
       "    .dataframe tbody tr th:only-of-type {\n",
       "        vertical-align: middle;\n",
       "    }\n",
       "\n",
       "    .dataframe tbody tr th {\n",
       "        vertical-align: top;\n",
       "    }\n",
       "\n",
       "    .dataframe thead th {\n",
       "        text-align: right;\n",
       "    }\n",
       "</style>\n",
       "<table border=\"1\" class=\"dataframe\">\n",
       "  <thead>\n",
       "    <tr style=\"text-align: right;\">\n",
       "      <th></th>\n",
       "      <th>timestamp</th>\n",
       "      <th>id</th>\n",
       "      <th>price</th>\n",
       "      <th>side</th>\n",
       "      <th>amount</th>\n",
       "    </tr>\n",
       "  </thead>\n",
       "  <tbody>\n",
       "    <tr>\n",
       "      <th>0</th>\n",
       "      <td>2020-07-17 00:01:10.647</td>\n",
       "      <td>19088200</td>\n",
       "      <td>0.000026</td>\n",
       "      <td>buy</td>\n",
       "      <td>4.0</td>\n",
       "    </tr>\n",
       "    <tr>\n",
       "      <th>1</th>\n",
       "      <td>2020-07-17 00:01:26.820</td>\n",
       "      <td>19088201</td>\n",
       "      <td>0.000026</td>\n",
       "      <td>sell</td>\n",
       "      <td>58.0</td>\n",
       "    </tr>\n",
       "    <tr>\n",
       "      <th>2</th>\n",
       "      <td>2020-07-17 00:01:26.825</td>\n",
       "      <td>19088202</td>\n",
       "      <td>0.000026</td>\n",
       "      <td>sell</td>\n",
       "      <td>25.0</td>\n",
       "    </tr>\n",
       "    <tr>\n",
       "      <th>3</th>\n",
       "      <td>2020-07-17 00:01:26.841</td>\n",
       "      <td>19088203</td>\n",
       "      <td>0.000026</td>\n",
       "      <td>sell</td>\n",
       "      <td>235.0</td>\n",
       "    </tr>\n",
       "    <tr>\n",
       "      <th>4</th>\n",
       "      <td>2020-07-17 00:01:26.842</td>\n",
       "      <td>19088204</td>\n",
       "      <td>0.000026</td>\n",
       "      <td>sell</td>\n",
       "      <td>36.0</td>\n",
       "    </tr>\n",
       "    <tr>\n",
       "      <th>...</th>\n",
       "      <td>...</td>\n",
       "      <td>...</td>\n",
       "      <td>...</td>\n",
       "      <td>...</td>\n",
       "      <td>...</td>\n",
       "    </tr>\n",
       "    <tr>\n",
       "      <th>96498</th>\n",
       "      <td>2020-07-30 23:54:05.293</td>\n",
       "      <td>19187367</td>\n",
       "      <td>0.000027</td>\n",
       "      <td>sell</td>\n",
       "      <td>181.0</td>\n",
       "    </tr>\n",
       "    <tr>\n",
       "      <th>96499</th>\n",
       "      <td>2020-07-30 23:57:25.885</td>\n",
       "      <td>19187368</td>\n",
       "      <td>0.000027</td>\n",
       "      <td>buy</td>\n",
       "      <td>167.0</td>\n",
       "    </tr>\n",
       "    <tr>\n",
       "      <th>96500</th>\n",
       "      <td>2020-07-30 23:58:00.690</td>\n",
       "      <td>19187369</td>\n",
       "      <td>0.000027</td>\n",
       "      <td>sell</td>\n",
       "      <td>21.0</td>\n",
       "    </tr>\n",
       "    <tr>\n",
       "      <th>96501</th>\n",
       "      <td>2020-07-30 23:58:00.697</td>\n",
       "      <td>19187370</td>\n",
       "      <td>0.000027</td>\n",
       "      <td>sell</td>\n",
       "      <td>43.0</td>\n",
       "    </tr>\n",
       "    <tr>\n",
       "      <th>96502</th>\n",
       "      <td>2020-07-30 23:58:36.580</td>\n",
       "      <td>19187371</td>\n",
       "      <td>0.000027</td>\n",
       "      <td>buy</td>\n",
       "      <td>1.0</td>\n",
       "    </tr>\n",
       "  </tbody>\n",
       "</table>\n",
       "<p>96503 rows × 5 columns</p>\n",
       "</div>"
      ],
      "text/plain": [
       "                     timestamp        id     price  side  amount\n",
       "0      2020-07-17 00:01:10.647  19088200  0.000026   buy     4.0\n",
       "1      2020-07-17 00:01:26.820  19088201  0.000026  sell    58.0\n",
       "2      2020-07-17 00:01:26.825  19088202  0.000026  sell    25.0\n",
       "3      2020-07-17 00:01:26.841  19088203  0.000026  sell   235.0\n",
       "4      2020-07-17 00:01:26.842  19088204  0.000026  sell    36.0\n",
       "...                        ...       ...       ...   ...     ...\n",
       "96498  2020-07-30 23:54:05.293  19187367  0.000027  sell   181.0\n",
       "96499  2020-07-30 23:57:25.885  19187368  0.000027   buy   167.0\n",
       "96500  2020-07-30 23:58:00.690  19187369  0.000027  sell    21.0\n",
       "96501  2020-07-30 23:58:00.697  19187370  0.000027  sell    43.0\n",
       "96502  2020-07-30 23:58:36.580  19187371  0.000027   buy     1.0\n",
       "\n",
       "[96503 rows x 5 columns]"
      ]
     },
     "execution_count": 5,
     "metadata": {},
     "output_type": "execute_result"
    },
    {
     "data": {
      "application/javascript": [
       "\n",
       "            setTimeout(function() {\n",
       "                var nbb_cell_id = 5;\n",
       "                var nbb_unformatted_code = \"trades\";\n",
       "                var nbb_formatted_code = \"trades\";\n",
       "                var nbb_cells = Jupyter.notebook.get_cells();\n",
       "                for (var i = 0; i < nbb_cells.length; ++i) {\n",
       "                    if (nbb_cells[i].input_prompt_number == nbb_cell_id) {\n",
       "                        if (nbb_cells[i].get_text() == nbb_unformatted_code) {\n",
       "                             nbb_cells[i].set_text(nbb_formatted_code);\n",
       "                        }\n",
       "                        break;\n",
       "                    }\n",
       "                }\n",
       "            }, 500);\n",
       "            "
      ],
      "text/plain": [
       "<IPython.core.display.Javascript object>"
      ]
     },
     "metadata": {},
     "output_type": "display_data"
    }
   ],
   "source": [
    "trades"
   ]
  },
  {
   "cell_type": "code",
   "execution_count": 6,
   "id": "98bc3be2",
   "metadata": {},
   "outputs": [
    {
     "name": "stdout",
     "output_type": "stream",
     "text": [
      "<class 'pandas.core.frame.DataFrame'>\n",
      "Int64Index: 96503 entries, 0 to 96502\n",
      "Data columns (total 5 columns):\n",
      " #   Column     Non-Null Count  Dtype  \n",
      "---  ------     --------------  -----  \n",
      " 0   timestamp  96503 non-null  object \n",
      " 1   id         96503 non-null  int64  \n",
      " 2   price      96503 non-null  float64\n",
      " 3   side       96503 non-null  object \n",
      " 4   amount     96503 non-null  float64\n",
      "dtypes: float64(2), int64(1), object(2)\n",
      "memory usage: 4.4+ MB\n"
     ]
    },
    {
     "data": {
      "application/javascript": [
       "\n",
       "            setTimeout(function() {\n",
       "                var nbb_cell_id = 6;\n",
       "                var nbb_unformatted_code = \"trades.info()\";\n",
       "                var nbb_formatted_code = \"trades.info()\";\n",
       "                var nbb_cells = Jupyter.notebook.get_cells();\n",
       "                for (var i = 0; i < nbb_cells.length; ++i) {\n",
       "                    if (nbb_cells[i].input_prompt_number == nbb_cell_id) {\n",
       "                        if (nbb_cells[i].get_text() == nbb_unformatted_code) {\n",
       "                             nbb_cells[i].set_text(nbb_formatted_code);\n",
       "                        }\n",
       "                        break;\n",
       "                    }\n",
       "                }\n",
       "            }, 500);\n",
       "            "
      ],
      "text/plain": [
       "<IPython.core.display.Javascript object>"
      ]
     },
     "metadata": {},
     "output_type": "display_data"
    }
   ],
   "source": [
    "trades.info()"
   ]
  },
  {
   "cell_type": "code",
   "execution_count": 7,
   "id": "b269098b",
   "metadata": {},
   "outputs": [
    {
     "data": {
      "text/plain": [
       "timestamp    0\n",
       "id           0\n",
       "price        0\n",
       "side         0\n",
       "amount       0\n",
       "dtype: int64"
      ]
     },
     "execution_count": 7,
     "metadata": {},
     "output_type": "execute_result"
    },
    {
     "data": {
      "application/javascript": [
       "\n",
       "            setTimeout(function() {\n",
       "                var nbb_cell_id = 7;\n",
       "                var nbb_unformatted_code = \"trades.isnull().sum()\";\n",
       "                var nbb_formatted_code = \"trades.isnull().sum()\";\n",
       "                var nbb_cells = Jupyter.notebook.get_cells();\n",
       "                for (var i = 0; i < nbb_cells.length; ++i) {\n",
       "                    if (nbb_cells[i].input_prompt_number == nbb_cell_id) {\n",
       "                        if (nbb_cells[i].get_text() == nbb_unformatted_code) {\n",
       "                             nbb_cells[i].set_text(nbb_formatted_code);\n",
       "                        }\n",
       "                        break;\n",
       "                    }\n",
       "                }\n",
       "            }, 500);\n",
       "            "
      ],
      "text/plain": [
       "<IPython.core.display.Javascript object>"
      ]
     },
     "metadata": {},
     "output_type": "display_data"
    }
   ],
   "source": [
    "trades.isnull().sum()"
   ]
  },
  {
   "cell_type": "code",
   "execution_count": 8,
   "id": "5e05a8c4",
   "metadata": {},
   "outputs": [
    {
     "data": {
      "text/plain": [
       "(96503, 5)"
      ]
     },
     "execution_count": 8,
     "metadata": {},
     "output_type": "execute_result"
    },
    {
     "data": {
      "application/javascript": [
       "\n",
       "            setTimeout(function() {\n",
       "                var nbb_cell_id = 8;\n",
       "                var nbb_unformatted_code = \"trades.shape\";\n",
       "                var nbb_formatted_code = \"trades.shape\";\n",
       "                var nbb_cells = Jupyter.notebook.get_cells();\n",
       "                for (var i = 0; i < nbb_cells.length; ++i) {\n",
       "                    if (nbb_cells[i].input_prompt_number == nbb_cell_id) {\n",
       "                        if (nbb_cells[i].get_text() == nbb_unformatted_code) {\n",
       "                             nbb_cells[i].set_text(nbb_formatted_code);\n",
       "                        }\n",
       "                        break;\n",
       "                    }\n",
       "                }\n",
       "            }, 500);\n",
       "            "
      ],
      "text/plain": [
       "<IPython.core.display.Javascript object>"
      ]
     },
     "metadata": {},
     "output_type": "display_data"
    }
   ],
   "source": [
    "trades.shape"
   ]
  },
  {
   "cell_type": "code",
   "execution_count": 9,
   "id": "4ee5fcf0",
   "metadata": {},
   "outputs": [
    {
     "data": {
      "application/javascript": [
       "\n",
       "            setTimeout(function() {\n",
       "                var nbb_cell_id = 9;\n",
       "                var nbb_unformatted_code = \"trades.set_index(\\\"timestamp\\\", inplace=True)\\ntrades.index = pd.to_datetime(trades.index)\";\n",
       "                var nbb_formatted_code = \"trades.set_index(\\\"timestamp\\\", inplace=True)\\ntrades.index = pd.to_datetime(trades.index)\";\n",
       "                var nbb_cells = Jupyter.notebook.get_cells();\n",
       "                for (var i = 0; i < nbb_cells.length; ++i) {\n",
       "                    if (nbb_cells[i].input_prompt_number == nbb_cell_id) {\n",
       "                        if (nbb_cells[i].get_text() == nbb_unformatted_code) {\n",
       "                             nbb_cells[i].set_text(nbb_formatted_code);\n",
       "                        }\n",
       "                        break;\n",
       "                    }\n",
       "                }\n",
       "            }, 500);\n",
       "            "
      ],
      "text/plain": [
       "<IPython.core.display.Javascript object>"
      ]
     },
     "metadata": {},
     "output_type": "display_data"
    }
   ],
   "source": [
    "trades.set_index(\"timestamp\", inplace=True)\n",
    "trades.index = pd.to_datetime(trades.index)"
   ]
  },
  {
   "cell_type": "code",
   "execution_count": 10,
   "id": "2be1864e",
   "metadata": {},
   "outputs": [
    {
     "data": {
      "text/plain": [
       "DatetimeIndex(['2020-07-17 00:05:46.614000', '2020-07-17 00:05:48.945000',\n",
       "               '2020-07-17 00:05:49.263000', '2020-07-17 00:05:49.263000',\n",
       "               '2020-07-17 00:05:49.734000', '2020-07-17 00:10:49.518000',\n",
       "               '2020-07-17 00:11:42.019000', '2020-07-17 00:12:23.636000',\n",
       "               '2020-07-17 00:12:23.636000', '2020-07-17 00:12:23.636000',\n",
       "               ...\n",
       "               '2020-07-30 23:22:16.508000', '2020-07-30 23:23:05.498000',\n",
       "               '2020-07-30 23:24:10.951000', '2020-07-30 23:24:17.189000',\n",
       "               '2020-07-30 23:29:01.716000', '2020-07-30 23:29:01.716000',\n",
       "               '2020-07-30 23:31:03.997000', '2020-07-30 23:31:51.944000',\n",
       "               '2020-07-30 23:32:36.584000', '2020-07-30 23:37:17.033000'],\n",
       "              dtype='datetime64[ns]', name='timestamp', length=14109, freq=None)"
      ]
     },
     "execution_count": 10,
     "metadata": {},
     "output_type": "execute_result"
    },
    {
     "data": {
      "application/javascript": [
       "\n",
       "            setTimeout(function() {\n",
       "                var nbb_cell_id = 10;\n",
       "                var nbb_unformatted_code = \"trades.index[trades.index.duplicated()]\";\n",
       "                var nbb_formatted_code = \"trades.index[trades.index.duplicated()]\";\n",
       "                var nbb_cells = Jupyter.notebook.get_cells();\n",
       "                for (var i = 0; i < nbb_cells.length; ++i) {\n",
       "                    if (nbb_cells[i].input_prompt_number == nbb_cell_id) {\n",
       "                        if (nbb_cells[i].get_text() == nbb_unformatted_code) {\n",
       "                             nbb_cells[i].set_text(nbb_formatted_code);\n",
       "                        }\n",
       "                        break;\n",
       "                    }\n",
       "                }\n",
       "            }, 500);\n",
       "            "
      ],
      "text/plain": [
       "<IPython.core.display.Javascript object>"
      ]
     },
     "metadata": {},
     "output_type": "display_data"
    }
   ],
   "source": [
    "trades.index[trades.index.duplicated()]"
   ]
  },
  {
   "cell_type": "markdown",
   "id": "9276a71a",
   "metadata": {},
   "source": [
    "## Grouping `Trades` by common `Timestamp`"
   ]
  },
  {
   "cell_type": "code",
   "execution_count": 11,
   "id": "731cd622",
   "metadata": {},
   "outputs": [
    {
     "data": {
      "application/javascript": [
       "\n",
       "            setTimeout(function() {\n",
       "                var nbb_cell_id = 11;\n",
       "                var nbb_unformatted_code = \"trades_groupby_timestamp = trades.groupby([\\\"timestamp\\\"]).agg(\\n    last_price=(\\\"price\\\", lambda x: x.iloc[-1]),\\n    mean_price=(\\\"price\\\", np.mean),\\n    count=(\\\"id\\\", pd.Series.nunique),\\n    mean_amount=(\\\"amount\\\", np.mean),\\n    sum_mount=(\\\"amount\\\", np.sum),\\n)\";\n",
       "                var nbb_formatted_code = \"trades_groupby_timestamp = trades.groupby([\\\"timestamp\\\"]).agg(\\n    last_price=(\\\"price\\\", lambda x: x.iloc[-1]),\\n    mean_price=(\\\"price\\\", np.mean),\\n    count=(\\\"id\\\", pd.Series.nunique),\\n    mean_amount=(\\\"amount\\\", np.mean),\\n    sum_mount=(\\\"amount\\\", np.sum),\\n)\";\n",
       "                var nbb_cells = Jupyter.notebook.get_cells();\n",
       "                for (var i = 0; i < nbb_cells.length; ++i) {\n",
       "                    if (nbb_cells[i].input_prompt_number == nbb_cell_id) {\n",
       "                        if (nbb_cells[i].get_text() == nbb_unformatted_code) {\n",
       "                             nbb_cells[i].set_text(nbb_formatted_code);\n",
       "                        }\n",
       "                        break;\n",
       "                    }\n",
       "                }\n",
       "            }, 500);\n",
       "            "
      ],
      "text/plain": [
       "<IPython.core.display.Javascript object>"
      ]
     },
     "metadata": {},
     "output_type": "display_data"
    }
   ],
   "source": [
    "trades_groupby_timestamp = trades.groupby([\"timestamp\"]).agg(\n",
    "    last_price=(\"price\", lambda x: x.iloc[-1]),\n",
    "    mean_price=(\"price\", np.mean),\n",
    "    count=(\"id\", pd.Series.nunique),\n",
    "    mean_amount=(\"amount\", np.mean),\n",
    "    sum_mount=(\"amount\", np.sum),\n",
    ")"
   ]
  },
  {
   "cell_type": "code",
   "execution_count": 12,
   "id": "f62516a9",
   "metadata": {},
   "outputs": [
    {
     "data": {
      "text/html": [
       "<div>\n",
       "<style scoped>\n",
       "    .dataframe tbody tr th:only-of-type {\n",
       "        vertical-align: middle;\n",
       "    }\n",
       "\n",
       "    .dataframe tbody tr th {\n",
       "        vertical-align: top;\n",
       "    }\n",
       "\n",
       "    .dataframe thead th {\n",
       "        text-align: right;\n",
       "    }\n",
       "</style>\n",
       "<table border=\"1\" class=\"dataframe\">\n",
       "  <thead>\n",
       "    <tr style=\"text-align: right;\">\n",
       "      <th></th>\n",
       "      <th>last_price</th>\n",
       "      <th>mean_price</th>\n",
       "      <th>count</th>\n",
       "      <th>mean_amount</th>\n",
       "      <th>sum_mount</th>\n",
       "    </tr>\n",
       "    <tr>\n",
       "      <th>timestamp</th>\n",
       "      <th></th>\n",
       "      <th></th>\n",
       "      <th></th>\n",
       "      <th></th>\n",
       "      <th></th>\n",
       "    </tr>\n",
       "  </thead>\n",
       "  <tbody>\n",
       "    <tr>\n",
       "      <th>2020-07-17 00:01:10.647</th>\n",
       "      <td>0.000026</td>\n",
       "      <td>0.000026</td>\n",
       "      <td>1</td>\n",
       "      <td>4.0</td>\n",
       "      <td>4.0</td>\n",
       "    </tr>\n",
       "    <tr>\n",
       "      <th>2020-07-17 00:01:26.820</th>\n",
       "      <td>0.000026</td>\n",
       "      <td>0.000026</td>\n",
       "      <td>1</td>\n",
       "      <td>58.0</td>\n",
       "      <td>58.0</td>\n",
       "    </tr>\n",
       "    <tr>\n",
       "      <th>2020-07-17 00:01:26.825</th>\n",
       "      <td>0.000026</td>\n",
       "      <td>0.000026</td>\n",
       "      <td>1</td>\n",
       "      <td>25.0</td>\n",
       "      <td>25.0</td>\n",
       "    </tr>\n",
       "    <tr>\n",
       "      <th>2020-07-17 00:01:26.841</th>\n",
       "      <td>0.000026</td>\n",
       "      <td>0.000026</td>\n",
       "      <td>1</td>\n",
       "      <td>235.0</td>\n",
       "      <td>235.0</td>\n",
       "    </tr>\n",
       "    <tr>\n",
       "      <th>2020-07-17 00:01:26.842</th>\n",
       "      <td>0.000026</td>\n",
       "      <td>0.000026</td>\n",
       "      <td>1</td>\n",
       "      <td>36.0</td>\n",
       "      <td>36.0</td>\n",
       "    </tr>\n",
       "    <tr>\n",
       "      <th>...</th>\n",
       "      <td>...</td>\n",
       "      <td>...</td>\n",
       "      <td>...</td>\n",
       "      <td>...</td>\n",
       "      <td>...</td>\n",
       "    </tr>\n",
       "    <tr>\n",
       "      <th>2020-07-30 23:54:05.293</th>\n",
       "      <td>0.000027</td>\n",
       "      <td>0.000027</td>\n",
       "      <td>1</td>\n",
       "      <td>181.0</td>\n",
       "      <td>181.0</td>\n",
       "    </tr>\n",
       "    <tr>\n",
       "      <th>2020-07-30 23:57:25.885</th>\n",
       "      <td>0.000027</td>\n",
       "      <td>0.000027</td>\n",
       "      <td>1</td>\n",
       "      <td>167.0</td>\n",
       "      <td>167.0</td>\n",
       "    </tr>\n",
       "    <tr>\n",
       "      <th>2020-07-30 23:58:00.690</th>\n",
       "      <td>0.000027</td>\n",
       "      <td>0.000027</td>\n",
       "      <td>1</td>\n",
       "      <td>21.0</td>\n",
       "      <td>21.0</td>\n",
       "    </tr>\n",
       "    <tr>\n",
       "      <th>2020-07-30 23:58:00.697</th>\n",
       "      <td>0.000027</td>\n",
       "      <td>0.000027</td>\n",
       "      <td>1</td>\n",
       "      <td>43.0</td>\n",
       "      <td>43.0</td>\n",
       "    </tr>\n",
       "    <tr>\n",
       "      <th>2020-07-30 23:58:36.580</th>\n",
       "      <td>0.000027</td>\n",
       "      <td>0.000027</td>\n",
       "      <td>1</td>\n",
       "      <td>1.0</td>\n",
       "      <td>1.0</td>\n",
       "    </tr>\n",
       "  </tbody>\n",
       "</table>\n",
       "<p>82394 rows × 5 columns</p>\n",
       "</div>"
      ],
      "text/plain": [
       "                         last_price  mean_price  count  mean_amount  sum_mount\n",
       "timestamp                                                                     \n",
       "2020-07-17 00:01:10.647    0.000026    0.000026      1          4.0        4.0\n",
       "2020-07-17 00:01:26.820    0.000026    0.000026      1         58.0       58.0\n",
       "2020-07-17 00:01:26.825    0.000026    0.000026      1         25.0       25.0\n",
       "2020-07-17 00:01:26.841    0.000026    0.000026      1        235.0      235.0\n",
       "2020-07-17 00:01:26.842    0.000026    0.000026      1         36.0       36.0\n",
       "...                             ...         ...    ...          ...        ...\n",
       "2020-07-30 23:54:05.293    0.000027    0.000027      1        181.0      181.0\n",
       "2020-07-30 23:57:25.885    0.000027    0.000027      1        167.0      167.0\n",
       "2020-07-30 23:58:00.690    0.000027    0.000027      1         21.0       21.0\n",
       "2020-07-30 23:58:00.697    0.000027    0.000027      1         43.0       43.0\n",
       "2020-07-30 23:58:36.580    0.000027    0.000027      1          1.0        1.0\n",
       "\n",
       "[82394 rows x 5 columns]"
      ]
     },
     "execution_count": 12,
     "metadata": {},
     "output_type": "execute_result"
    },
    {
     "data": {
      "application/javascript": [
       "\n",
       "            setTimeout(function() {\n",
       "                var nbb_cell_id = 12;\n",
       "                var nbb_unformatted_code = \"trades_groupby_timestamp\";\n",
       "                var nbb_formatted_code = \"trades_groupby_timestamp\";\n",
       "                var nbb_cells = Jupyter.notebook.get_cells();\n",
       "                for (var i = 0; i < nbb_cells.length; ++i) {\n",
       "                    if (nbb_cells[i].input_prompt_number == nbb_cell_id) {\n",
       "                        if (nbb_cells[i].get_text() == nbb_unformatted_code) {\n",
       "                             nbb_cells[i].set_text(nbb_formatted_code);\n",
       "                        }\n",
       "                        break;\n",
       "                    }\n",
       "                }\n",
       "            }, 500);\n",
       "            "
      ],
      "text/plain": [
       "<IPython.core.display.Javascript object>"
      ]
     },
     "metadata": {},
     "output_type": "display_data"
    }
   ],
   "source": [
    "trades_groupby_timestamp"
   ]
  },
  {
   "cell_type": "markdown",
   "id": "6b09407d",
   "metadata": {},
   "source": [
    "## Analyzing the `frequency` of trades\n"
   ]
  },
  {
   "cell_type": "code",
   "execution_count": 13,
   "id": "9087cad6",
   "metadata": {},
   "outputs": [
    {
     "data": {
      "application/javascript": [
       "\n",
       "            setTimeout(function() {\n",
       "                var nbb_cell_id = 13;\n",
       "                var nbb_unformatted_code = \"trades_frequency = [\\n    trades_groupby_timestamp.index[i] - trades_groupby_timestamp.index[i - 1]\\n    for i, x in enumerate(trades_groupby_timestamp.index)\\n    if i >= 1\\n]\\ntrades_frequency = pd.Series([x.total_seconds() for x in trades_frequency])\";\n",
       "                var nbb_formatted_code = \"trades_frequency = [\\n    trades_groupby_timestamp.index[i] - trades_groupby_timestamp.index[i - 1]\\n    for i, x in enumerate(trades_groupby_timestamp.index)\\n    if i >= 1\\n]\\ntrades_frequency = pd.Series([x.total_seconds() for x in trades_frequency])\";\n",
       "                var nbb_cells = Jupyter.notebook.get_cells();\n",
       "                for (var i = 0; i < nbb_cells.length; ++i) {\n",
       "                    if (nbb_cells[i].input_prompt_number == nbb_cell_id) {\n",
       "                        if (nbb_cells[i].get_text() == nbb_unformatted_code) {\n",
       "                             nbb_cells[i].set_text(nbb_formatted_code);\n",
       "                        }\n",
       "                        break;\n",
       "                    }\n",
       "                }\n",
       "            }, 500);\n",
       "            "
      ],
      "text/plain": [
       "<IPython.core.display.Javascript object>"
      ]
     },
     "metadata": {},
     "output_type": "display_data"
    }
   ],
   "source": [
    "trades_frequency = [\n",
    "    trades_groupby_timestamp.index[i] - trades_groupby_timestamp.index[i - 1]\n",
    "    for i, x in enumerate(trades_groupby_timestamp.index)\n",
    "    if i >= 1\n",
    "]\n",
    "trades_frequency = pd.Series([x.total_seconds() for x in trades_frequency])"
   ]
  },
  {
   "cell_type": "code",
   "execution_count": 14,
   "id": "6d0f64b7",
   "metadata": {},
   "outputs": [
    {
     "data": {
      "text/html": [
       "<div>\n",
       "<style scoped>\n",
       "    .dataframe tbody tr th:only-of-type {\n",
       "        vertical-align: middle;\n",
       "    }\n",
       "\n",
       "    .dataframe tbody tr th {\n",
       "        vertical-align: top;\n",
       "    }\n",
       "\n",
       "    .dataframe thead th {\n",
       "        text-align: right;\n",
       "    }\n",
       "</style>\n",
       "<table border=\"1\" class=\"dataframe\">\n",
       "  <thead>\n",
       "    <tr style=\"text-align: right;\">\n",
       "      <th></th>\n",
       "      <th>count</th>\n",
       "      <th>mean</th>\n",
       "      <th>std</th>\n",
       "      <th>min</th>\n",
       "      <th>25%</th>\n",
       "      <th>50%</th>\n",
       "      <th>75%</th>\n",
       "      <th>max</th>\n",
       "    </tr>\n",
       "  </thead>\n",
       "  <tbody>\n",
       "    <tr>\n",
       "      <th>0</th>\n",
       "      <td>82393.0</td>\n",
       "      <td>14.678989</td>\n",
       "      <td>34.149058</td>\n",
       "      <td>0.001</td>\n",
       "      <td>0.308</td>\n",
       "      <td>2.098</td>\n",
       "      <td>12.906</td>\n",
       "      <td>841.972</td>\n",
       "    </tr>\n",
       "  </tbody>\n",
       "</table>\n",
       "</div>"
      ],
      "text/plain": [
       "     count       mean        std    min    25%    50%     75%      max\n",
       "0  82393.0  14.678989  34.149058  0.001  0.308  2.098  12.906  841.972"
      ]
     },
     "execution_count": 14,
     "metadata": {},
     "output_type": "execute_result"
    },
    {
     "data": {
      "application/javascript": [
       "\n",
       "            setTimeout(function() {\n",
       "                var nbb_cell_id = 14;\n",
       "                var nbb_unformatted_code = \"pd.DataFrame(trades_frequency.describe()).T\";\n",
       "                var nbb_formatted_code = \"pd.DataFrame(trades_frequency.describe()).T\";\n",
       "                var nbb_cells = Jupyter.notebook.get_cells();\n",
       "                for (var i = 0; i < nbb_cells.length; ++i) {\n",
       "                    if (nbb_cells[i].input_prompt_number == nbb_cell_id) {\n",
       "                        if (nbb_cells[i].get_text() == nbb_unformatted_code) {\n",
       "                             nbb_cells[i].set_text(nbb_formatted_code);\n",
       "                        }\n",
       "                        break;\n",
       "                    }\n",
       "                }\n",
       "            }, 500);\n",
       "            "
      ],
      "text/plain": [
       "<IPython.core.display.Javascript object>"
      ]
     },
     "metadata": {},
     "output_type": "display_data"
    }
   ],
   "source": [
    "pd.DataFrame(trades_frequency.describe()).T"
   ]
  },
  {
   "cell_type": "code",
   "execution_count": 15,
   "id": "b4d066bb",
   "metadata": {},
   "outputs": [
    {
     "data": {
      "image/png": "[encoded data removed]",
      "text/plain": [
       "<Figure size 720x360 with 1 Axes>"
      ]
     },
     "metadata": {
      "needs_background": "light"
     },
     "output_type": "display_data"
    },
    {
     "data": {
      "application/javascript": [
       "\n",
       "            setTimeout(function() {\n",
       "                var nbb_cell_id = 15;\n",
       "                var nbb_unformatted_code = \"plt.figure(figsize=(10, 5))\\n\\ntrades_frequency[trades_frequency.le(float(trades_frequency.quantile([0.95])))].hist(\\n    density=True\\n)\\nplt.title(\\\"Histogram of the frequencies of trades \\\", fontsize=16)\\nplt.xlabel(\\\"Seconds\\\")\\n\\nplt.show()\";\n",
       "                var nbb_formatted_code = \"plt.figure(figsize=(10, 5))\\n\\ntrades_frequency[trades_frequency.le(float(trades_frequency.quantile([0.95])))].hist(\\n    density=True\\n)\\nplt.title(\\\"Histogram of the frequencies of trades \\\", fontsize=16)\\nplt.xlabel(\\\"Seconds\\\")\\n\\nplt.show()\";\n",
       "                var nbb_cells = Jupyter.notebook.get_cells();\n",
       "                for (var i = 0; i < nbb_cells.length; ++i) {\n",
       "                    if (nbb_cells[i].input_prompt_number == nbb_cell_id) {\n",
       "                        if (nbb_cells[i].get_text() == nbb_unformatted_code) {\n",
       "                             nbb_cells[i].set_text(nbb_formatted_code);\n",
       "                        }\n",
       "                        break;\n",
       "                    }\n",
       "                }\n",
       "            }, 500);\n",
       "            "
      ],
      "text/plain": [
       "<IPython.core.display.Javascript object>"
      ]
     },
     "metadata": {},
     "output_type": "display_data"
    }
   ],
   "source": [
    "plt.figure(figsize=(10, 5))\n",
    "\n",
    "trades_frequency[trades_frequency.le(float(trades_frequency.quantile([0.95])))].hist(\n",
    "    density=True\n",
    ")\n",
    "plt.title(\"Histogram of the frequencies of trades \", fontsize=16)\n",
    "plt.xlabel(\"Seconds\")\n",
    "\n",
    "plt.show()"
   ]
  },
  {
   "cell_type": "markdown",
   "id": "fb706dc5",
   "metadata": {},
   "source": [
    "# `Order Book` data"
   ]
  },
  {
   "cell_type": "code",
   "execution_count": 16,
   "id": "080adf4b",
   "metadata": {},
   "outputs": [
    {
     "data": {
      "application/javascript": [
       "\n",
       "            setTimeout(function() {\n",
       "                var nbb_cell_id = 16;\n",
       "                var nbb_unformatted_code = \"list_of_order_books = []\\nfor el in order_books_files:\\n\\n    list_of_order_books.append(pd.read_json(order_book_folder + el))\";\n",
       "                var nbb_formatted_code = \"list_of_order_books = []\\nfor el in order_books_files:\\n\\n    list_of_order_books.append(pd.read_json(order_book_folder + el))\";\n",
       "                var nbb_cells = Jupyter.notebook.get_cells();\n",
       "                for (var i = 0; i < nbb_cells.length; ++i) {\n",
       "                    if (nbb_cells[i].input_prompt_number == nbb_cell_id) {\n",
       "                        if (nbb_cells[i].get_text() == nbb_unformatted_code) {\n",
       "                             nbb_cells[i].set_text(nbb_formatted_code);\n",
       "                        }\n",
       "                        break;\n",
       "                    }\n",
       "                }\n",
       "            }, 500);\n",
       "            "
      ],
      "text/plain": [
       "<IPython.core.display.Javascript object>"
      ]
     },
     "metadata": {},
     "output_type": "display_data"
    }
   ],
   "source": [
    "list_of_order_books = []\n",
    "for el in order_books_files:\n",
    "\n",
    "    list_of_order_books.append(pd.read_json(order_book_folder + el))"
   ]
  },
  {
   "cell_type": "code",
   "execution_count": 17,
   "id": "60b5ca4c",
   "metadata": {},
   "outputs": [
    {
     "data": {
      "application/javascript": [
       "\n",
       "            setTimeout(function() {\n",
       "                var nbb_cell_id = 17;\n",
       "                var nbb_unformatted_code = \"order_book = pd.concat(list_of_order_books)\";\n",
       "                var nbb_formatted_code = \"order_book = pd.concat(list_of_order_books)\";\n",
       "                var nbb_cells = Jupyter.notebook.get_cells();\n",
       "                for (var i = 0; i < nbb_cells.length; ++i) {\n",
       "                    if (nbb_cells[i].input_prompt_number == nbb_cell_id) {\n",
       "                        if (nbb_cells[i].get_text() == nbb_unformatted_code) {\n",
       "                             nbb_cells[i].set_text(nbb_formatted_code);\n",
       "                        }\n",
       "                        break;\n",
       "                    }\n",
       "                }\n",
       "            }, 500);\n",
       "            "
      ],
      "text/plain": [
       "<IPython.core.display.Javascript object>"
      ]
     },
     "metadata": {},
     "output_type": "display_data"
    }
   ],
   "source": [
    "order_book = pd.concat(list_of_order_books)\n"
   ]
  },
  {
   "cell_type": "code",
   "execution_count": 18,
   "id": "a05f10e1",
   "metadata": {},
   "outputs": [
    {
     "data": {
      "text/html": [
       "<div>\n",
       "<style scoped>\n",
       "    .dataframe tbody tr th:only-of-type {\n",
       "        vertical-align: middle;\n",
       "    }\n",
       "\n",
       "    .dataframe tbody tr th {\n",
       "        vertical-align: top;\n",
       "    }\n",
       "\n",
       "    .dataframe thead th {\n",
       "        text-align: right;\n",
       "    }\n",
       "</style>\n",
       "<table border=\"1\" class=\"dataframe\">\n",
       "  <thead>\n",
       "    <tr style=\"text-align: right;\">\n",
       "      <th></th>\n",
       "      <th>lastUpdated</th>\n",
       "      <th>asks</th>\n",
       "      <th>bids</th>\n",
       "    </tr>\n",
       "  </thead>\n",
       "  <tbody>\n",
       "    <tr>\n",
       "      <th>0</th>\n",
       "      <td>2020-07-17 00:00:23.225</td>\n",
       "      <td>[[2.644e-05, 5243], [2.645e-05, 4216], [2.646e...</td>\n",
       "      <td>[[2.639e-05, 4216], [2.638e-05, 7000], [2.637e...</td>\n",
       "    </tr>\n",
       "    <tr>\n",
       "      <th>1</th>\n",
       "      <td>2020-07-17 00:00:30.293</td>\n",
       "      <td>[[2.645e-05, 4216], [2.646e-05, 763], [2.647e-...</td>\n",
       "      <td>[[2.638e-05, 4989], [2.637e-05, 2427], [2.6360...</td>\n",
       "    </tr>\n",
       "    <tr>\n",
       "      <th>2</th>\n",
       "      <td>2020-07-17 00:00:30.429</td>\n",
       "      <td>[[2.645e-05, 4216], [2.646e-05, 763], [2.647e-...</td>\n",
       "      <td>[[2.639e-05, 4216], [2.638e-05, 4989], [2.637e...</td>\n",
       "    </tr>\n",
       "    <tr>\n",
       "      <th>3</th>\n",
       "      <td>2020-07-17 00:01:04.450</td>\n",
       "      <td>[[2.644e-05, 11], [2.646e-05, 4978], [2.647e-0...</td>\n",
       "      <td>[[2.639e-05, 4216], [2.638e-05, 6689], [2.637e...</td>\n",
       "    </tr>\n",
       "    <tr>\n",
       "      <th>4</th>\n",
       "      <td>2020-07-17 00:01:10.753</td>\n",
       "      <td>[[2.643e-05, 7], [2.645e-05, 3982], [2.646e-05...</td>\n",
       "      <td>[[2.639e-05, 4216], [2.638e-05, 6689], [2.637e...</td>\n",
       "    </tr>\n",
       "    <tr>\n",
       "      <th>...</th>\n",
       "      <td>...</td>\n",
       "      <td>...</td>\n",
       "      <td>...</td>\n",
       "    </tr>\n",
       "    <tr>\n",
       "      <th>9052</th>\n",
       "      <td>2020-07-30 23:58:32.329</td>\n",
       "      <td>[[2.7060000000000002e-05, 7396], [2.707e-05, 2...</td>\n",
       "      <td>[[2.703e-05, 495], [2.7020000000000002e-05, 28...</td>\n",
       "    </tr>\n",
       "    <tr>\n",
       "      <th>9053</th>\n",
       "      <td>2020-07-30 23:58:38.233</td>\n",
       "      <td>[[2.709e-05, 46], [2.7099999999999998e-05, 275...</td>\n",
       "      <td>[[2.703e-05, 3251], [2.7020000000000002e-05, 1...</td>\n",
       "    </tr>\n",
       "    <tr>\n",
       "      <th>9054</th>\n",
       "      <td>2020-07-30 23:58:44.335</td>\n",
       "      <td>[[2.707e-05, 7395], [2.7099999999999998e-05, 7...</td>\n",
       "      <td>[[2.703e-05, 3251], [2.7020000000000002e-05, 1...</td>\n",
       "    </tr>\n",
       "    <tr>\n",
       "      <th>9055</th>\n",
       "      <td>2020-07-30 23:58:44.438</td>\n",
       "      <td>[[2.7099999999999998e-05, 54], [2.711e-05, 255...</td>\n",
       "      <td>[[2.703e-05, 3251], [2.7020000000000002e-05, 1...</td>\n",
       "    </tr>\n",
       "    <tr>\n",
       "      <th>9056</th>\n",
       "      <td>2020-07-30 23:59:01.545</td>\n",
       "      <td>[[2.705e-05, 2758], [2.7060000000000002e-05, 6...</td>\n",
       "      <td>[[2.703e-05, 131], [2.7020000000000002e-05, 10...</td>\n",
       "    </tr>\n",
       "  </tbody>\n",
       "</table>\n",
       "<p>96858 rows × 3 columns</p>\n",
       "</div>"
      ],
      "text/plain": [
       "                  lastUpdated  \\\n",
       "0     2020-07-17 00:00:23.225   \n",
       "1     2020-07-17 00:00:30.293   \n",
       "2     2020-07-17 00:00:30.429   \n",
       "3     2020-07-17 00:01:04.450   \n",
       "4     2020-07-17 00:01:10.753   \n",
       "...                       ...   \n",
       "9052  2020-07-30 23:58:32.329   \n",
       "9053  2020-07-30 23:58:38.233   \n",
       "9054  2020-07-30 23:58:44.335   \n",
       "9055  2020-07-30 23:58:44.438   \n",
       "9056  2020-07-30 23:59:01.545   \n",
       "\n",
       "                                                   asks  \\\n",
       "0     [[2.644e-05, 5243], [2.645e-05, 4216], [2.646e...   \n",
       "1     [[2.645e-05, 4216], [2.646e-05, 763], [2.647e-...   \n",
       "2     [[2.645e-05, 4216], [2.646e-05, 763], [2.647e-...   \n",
       "3     [[2.644e-05, 11], [2.646e-05, 4978], [2.647e-0...   \n",
       "4     [[2.643e-05, 7], [2.645e-05, 3982], [2.646e-05...   \n",
       "...                                                 ...   \n",
       "9052  [[2.7060000000000002e-05, 7396], [2.707e-05, 2...   \n",
       "9053  [[2.709e-05, 46], [2.7099999999999998e-05, 275...   \n",
       "9054  [[2.707e-05, 7395], [2.7099999999999998e-05, 7...   \n",
       "9055  [[2.7099999999999998e-05, 54], [2.711e-05, 255...   \n",
       "9056  [[2.705e-05, 2758], [2.7060000000000002e-05, 6...   \n",
       "\n",
       "                                                   bids  \n",
       "0     [[2.639e-05, 4216], [2.638e-05, 7000], [2.637e...  \n",
       "1     [[2.638e-05, 4989], [2.637e-05, 2427], [2.6360...  \n",
       "2     [[2.639e-05, 4216], [2.638e-05, 4989], [2.637e...  \n",
       "3     [[2.639e-05, 4216], [2.638e-05, 6689], [2.637e...  \n",
       "4     [[2.639e-05, 4216], [2.638e-05, 6689], [2.637e...  \n",
       "...                                                 ...  \n",
       "9052  [[2.703e-05, 495], [2.7020000000000002e-05, 28...  \n",
       "9053  [[2.703e-05, 3251], [2.7020000000000002e-05, 1...  \n",
       "9054  [[2.703e-05, 3251], [2.7020000000000002e-05, 1...  \n",
       "9055  [[2.703e-05, 3251], [2.7020000000000002e-05, 1...  \n",
       "9056  [[2.703e-05, 131], [2.7020000000000002e-05, 10...  \n",
       "\n",
       "[96858 rows x 3 columns]"
      ]
     },
     "execution_count": 18,
     "metadata": {},
     "output_type": "execute_result"
    },
    {
     "data": {
      "application/javascript": [
       "\n",
       "            setTimeout(function() {\n",
       "                var nbb_cell_id = 18;\n",
       "                var nbb_unformatted_code = \"order_book\";\n",
       "                var nbb_formatted_code = \"order_book\";\n",
       "                var nbb_cells = Jupyter.notebook.get_cells();\n",
       "                for (var i = 0; i < nbb_cells.length; ++i) {\n",
       "                    if (nbb_cells[i].input_prompt_number == nbb_cell_id) {\n",
       "                        if (nbb_cells[i].get_text() == nbb_unformatted_code) {\n",
       "                             nbb_cells[i].set_text(nbb_formatted_code);\n",
       "                        }\n",
       "                        break;\n",
       "                    }\n",
       "                }\n",
       "            }, 500);\n",
       "            "
      ],
      "text/plain": [
       "<IPython.core.display.Javascript object>"
      ]
     },
     "metadata": {},
     "output_type": "display_data"
    }
   ],
   "source": [
    "order_book"
   ]
  },
  {
   "cell_type": "code",
   "execution_count": 19,
   "id": "82f81a4a",
   "metadata": {},
   "outputs": [
    {
     "data": {
      "application/javascript": [
       "\n",
       "            setTimeout(function() {\n",
       "                var nbb_cell_id = 19;\n",
       "                var nbb_unformatted_code = \"order_book.set_index(\\\"lastUpdated\\\", inplace=True)\\norder_book.index = pd.to_datetime(order_book.index)\";\n",
       "                var nbb_formatted_code = \"order_book.set_index(\\\"lastUpdated\\\", inplace=True)\\norder_book.index = pd.to_datetime(order_book.index)\";\n",
       "                var nbb_cells = Jupyter.notebook.get_cells();\n",
       "                for (var i = 0; i < nbb_cells.length; ++i) {\n",
       "                    if (nbb_cells[i].input_prompt_number == nbb_cell_id) {\n",
       "                        if (nbb_cells[i].get_text() == nbb_unformatted_code) {\n",
       "                             nbb_cells[i].set_text(nbb_formatted_code);\n",
       "                        }\n",
       "                        break;\n",
       "                    }\n",
       "                }\n",
       "            }, 500);\n",
       "            "
      ],
      "text/plain": [
       "<IPython.core.display.Javascript object>"
      ]
     },
     "metadata": {},
     "output_type": "display_data"
    }
   ],
   "source": [
    "order_book.set_index(\"lastUpdated\", inplace=True)\n",
    "order_book.index = pd.to_datetime(order_book.index)"
   ]
  },
  {
   "cell_type": "markdown",
   "id": "4e6545dd",
   "metadata": {},
   "source": [
    "### Analyzing the `frequency of timestamps` in the `order book` data frame"
   ]
  },
  {
   "cell_type": "code",
   "execution_count": 20,
   "id": "4248ff3f",
   "metadata": {},
   "outputs": [
    {
     "data": {
      "application/javascript": [
       "\n",
       "            setTimeout(function() {\n",
       "                var nbb_cell_id = 20;\n",
       "                var nbb_unformatted_code = \"order_book_frequency = [\\n    order_book.index[i] - order_book.index[i - 1]\\n    for i, x in enumerate(order_book.index)\\n    if i >= 1\\n]\\norder_book_frequency = pd.Series([x.total_seconds() for x in order_book_frequency])\";\n",
       "                var nbb_formatted_code = \"order_book_frequency = [\\n    order_book.index[i] - order_book.index[i - 1]\\n    for i, x in enumerate(order_book.index)\\n    if i >= 1\\n]\\norder_book_frequency = pd.Series([x.total_seconds() for x in order_book_frequency])\";\n",
       "                var nbb_cells = Jupyter.notebook.get_cells();\n",
       "                for (var i = 0; i < nbb_cells.length; ++i) {\n",
       "                    if (nbb_cells[i].input_prompt_number == nbb_cell_id) {\n",
       "                        if (nbb_cells[i].get_text() == nbb_unformatted_code) {\n",
       "                             nbb_cells[i].set_text(nbb_formatted_code);\n",
       "                        }\n",
       "                        break;\n",
       "                    }\n",
       "                }\n",
       "            }, 500);\n",
       "            "
      ],
      "text/plain": [
       "<IPython.core.display.Javascript object>"
      ]
     },
     "metadata": {},
     "output_type": "display_data"
    }
   ],
   "source": [
    "order_book_frequency = [\n",
    "    order_book.index[i] - order_book.index[i - 1]\n",
    "    for i, x in enumerate(order_book.index)\n",
    "    if i >= 1\n",
    "]\n",
    "order_book_frequency = pd.Series([x.total_seconds() for x in order_book_frequency])"
   ]
  },
  {
   "cell_type": "code",
   "execution_count": 21,
   "id": "b36c398a",
   "metadata": {},
   "outputs": [
    {
     "data": {
      "text/html": [
       "<div>\n",
       "<style scoped>\n",
       "    .dataframe tbody tr th:only-of-type {\n",
       "        vertical-align: middle;\n",
       "    }\n",
       "\n",
       "    .dataframe tbody tr th {\n",
       "        vertical-align: top;\n",
       "    }\n",
       "\n",
       "    .dataframe thead th {\n",
       "        text-align: right;\n",
       "    }\n",
       "</style>\n",
       "<table border=\"1\" class=\"dataframe\">\n",
       "  <thead>\n",
       "    <tr style=\"text-align: right;\">\n",
       "      <th></th>\n",
       "      <th>count</th>\n",
       "      <th>mean</th>\n",
       "      <th>std</th>\n",
       "      <th>min</th>\n",
       "      <th>25%</th>\n",
       "      <th>50%</th>\n",
       "      <th>75%</th>\n",
       "      <th>max</th>\n",
       "    </tr>\n",
       "  </thead>\n",
       "  <tbody>\n",
       "    <tr>\n",
       "      <th>0</th>\n",
       "      <td>96857.0</td>\n",
       "      <td>12.487671</td>\n",
       "      <td>23.259605</td>\n",
       "      <td>0.012</td>\n",
       "      <td>0.7</td>\n",
       "      <td>7.103</td>\n",
       "      <td>13.707</td>\n",
       "      <td>764.853</td>\n",
       "    </tr>\n",
       "  </tbody>\n",
       "</table>\n",
       "</div>"
      ],
      "text/plain": [
       "     count       mean        std    min  25%    50%     75%      max\n",
       "0  96857.0  12.487671  23.259605  0.012  0.7  7.103  13.707  764.853"
      ]
     },
     "execution_count": 21,
     "metadata": {},
     "output_type": "execute_result"
    },
    {
     "data": {
      "application/javascript": [
       "\n",
       "            setTimeout(function() {\n",
       "                var nbb_cell_id = 21;\n",
       "                var nbb_unformatted_code = \"pd.DataFrame(order_book_frequency.describe()).T\";\n",
       "                var nbb_formatted_code = \"pd.DataFrame(order_book_frequency.describe()).T\";\n",
       "                var nbb_cells = Jupyter.notebook.get_cells();\n",
       "                for (var i = 0; i < nbb_cells.length; ++i) {\n",
       "                    if (nbb_cells[i].input_prompt_number == nbb_cell_id) {\n",
       "                        if (nbb_cells[i].get_text() == nbb_unformatted_code) {\n",
       "                             nbb_cells[i].set_text(nbb_formatted_code);\n",
       "                        }\n",
       "                        break;\n",
       "                    }\n",
       "                }\n",
       "            }, 500);\n",
       "            "
      ],
      "text/plain": [
       "<IPython.core.display.Javascript object>"
      ]
     },
     "metadata": {},
     "output_type": "display_data"
    }
   ],
   "source": [
    "pd.DataFrame(order_book_frequency.describe()).T"
   ]
  },
  {
   "cell_type": "code",
   "execution_count": 22,
   "id": "2eaf4427",
   "metadata": {},
   "outputs": [
    {
     "data": {
      "image/png": "[encoded data removed]",
      "text/plain": [
       "<Figure size 720x360 with 1 Axes>"
      ]
     },
     "metadata": {
      "needs_background": "light"
     },
     "output_type": "display_data"
    },
    {
     "data": {
      "application/javascript": [
       "\n",
       "            setTimeout(function() {\n",
       "                var nbb_cell_id = 22;\n",
       "                var nbb_unformatted_code = \"plt.figure(figsize=(10, 5))\\n\\norder_book_frequency[\\n    order_book_frequency.le(float(order_book_frequency.quantile([0.95])))\\n].hist(density=True)\\nplt.title(\\n    \\\"Histogram of the frequencies of timestamps in the order book data frame \\\",\\n    fontsize=16,\\n)\\nplt.xlabel(\\\"Seconds\\\")\\n\\nplt.show()\";\n",
       "                var nbb_formatted_code = \"plt.figure(figsize=(10, 5))\\n\\norder_book_frequency[\\n    order_book_frequency.le(float(order_book_frequency.quantile([0.95])))\\n].hist(density=True)\\nplt.title(\\n    \\\"Histogram of the frequencies of timestamps in the order book data frame \\\",\\n    fontsize=16,\\n)\\nplt.xlabel(\\\"Seconds\\\")\\n\\nplt.show()\";\n",
       "                var nbb_cells = Jupyter.notebook.get_cells();\n",
       "                for (var i = 0; i < nbb_cells.length; ++i) {\n",
       "                    if (nbb_cells[i].input_prompt_number == nbb_cell_id) {\n",
       "                        if (nbb_cells[i].get_text() == nbb_unformatted_code) {\n",
       "                             nbb_cells[i].set_text(nbb_formatted_code);\n",
       "                        }\n",
       "                        break;\n",
       "                    }\n",
       "                }\n",
       "            }, 500);\n",
       "            "
      ],
      "text/plain": [
       "<IPython.core.display.Javascript object>"
      ]
     },
     "metadata": {},
     "output_type": "display_data"
    }
   ],
   "source": [
    "plt.figure(figsize=(10, 5))\n",
    "\n",
    "order_book_frequency[\n",
    "    order_book_frequency.le(float(order_book_frequency.quantile([0.95])))\n",
    "].hist(density=True)\n",
    "plt.title(\n",
    "    \"Histogram of the frequencies of timestamps in the order book data frame \",\n",
    "    fontsize=16,\n",
    ")\n",
    "plt.xlabel(\"Seconds\")\n",
    "\n",
    "plt.show()"
   ]
  },
  {
   "cell_type": "markdown",
   "id": "3dd5de29",
   "metadata": {},
   "source": [
    "## Functions to create `features/variables` from the `order book`:\n",
    "- **`mid price`, `spread`, `order book pressure` OBP, `order book imbalance`**\n"
   ]
  },
  {
   "cell_type": "code",
   "execution_count": 23,
   "id": "fd6e28a2",
   "metadata": {},
   "outputs": [
    {
     "data": {
      "application/javascript": [
       "\n",
       "            setTimeout(function() {\n",
       "                var nbb_cell_id = 23;\n",
       "                var nbb_unformatted_code = \"def get_bids_and_asks_for_specific_datetime(my_datetime: str) -> tuple:\\n\\n    orderbook_at_mydatetime = order_book.loc[my_datetime]\\n\\n    return (\\n        json.loads(orderbook_at_mydatetime.bids),\\n        json.loads(orderbook_at_mydatetime.asks),\\n    )\";\n",
       "                var nbb_formatted_code = \"def get_bids_and_asks_for_specific_datetime(my_datetime: str) -> tuple:\\n\\n    orderbook_at_mydatetime = order_book.loc[my_datetime]\\n\\n    return (\\n        json.loads(orderbook_at_mydatetime.bids),\\n        json.loads(orderbook_at_mydatetime.asks),\\n    )\";\n",
       "                var nbb_cells = Jupyter.notebook.get_cells();\n",
       "                for (var i = 0; i < nbb_cells.length; ++i) {\n",
       "                    if (nbb_cells[i].input_prompt_number == nbb_cell_id) {\n",
       "                        if (nbb_cells[i].get_text() == nbb_unformatted_code) {\n",
       "                             nbb_cells[i].set_text(nbb_formatted_code);\n",
       "                        }\n",
       "                        break;\n",
       "                    }\n",
       "                }\n",
       "            }, 500);\n",
       "            "
      ],
      "text/plain": [
       "<IPython.core.display.Javascript object>"
      ]
     },
     "metadata": {},
     "output_type": "display_data"
    }
   ],
   "source": [
    "def get_bids_and_asks_for_specific_datetime(my_datetime: str) -> tuple:\n",
    "\n",
    "    orderbook_at_mydatetime = order_book.loc[my_datetime]\n",
    "\n",
    "    return (\n",
    "        json.loads(orderbook_at_mydatetime.bids),\n",
    "        json.loads(orderbook_at_mydatetime.asks),\n",
    "    )"
   ]
  },
  {
   "cell_type": "code",
   "execution_count": 24,
   "id": "d7df77e8",
   "metadata": {},
   "outputs": [
    {
     "data": {
      "application/javascript": [
       "\n",
       "            setTimeout(function() {\n",
       "                var nbb_cell_id = 24;\n",
       "                var nbb_unformatted_code = \"def get_bids_and_asks(bids, asks):\\n\\n    return json.loads(bids), json.loads(asks)\";\n",
       "                var nbb_formatted_code = \"def get_bids_and_asks(bids, asks):\\n\\n    return json.loads(bids), json.loads(asks)\";\n",
       "                var nbb_cells = Jupyter.notebook.get_cells();\n",
       "                for (var i = 0; i < nbb_cells.length; ++i) {\n",
       "                    if (nbb_cells[i].input_prompt_number == nbb_cell_id) {\n",
       "                        if (nbb_cells[i].get_text() == nbb_unformatted_code) {\n",
       "                             nbb_cells[i].set_text(nbb_formatted_code);\n",
       "                        }\n",
       "                        break;\n",
       "                    }\n",
       "                }\n",
       "            }, 500);\n",
       "            "
      ],
      "text/plain": [
       "<IPython.core.display.Javascript object>"
      ]
     },
     "metadata": {},
     "output_type": "display_data"
    }
   ],
   "source": [
    "def get_bids_and_asks(bids, asks):\n",
    "\n",
    "    return json.loads(bids), json.loads(asks)"
   ]
  },
  {
   "cell_type": "code",
   "execution_count": 25,
   "id": "435f3e9b",
   "metadata": {},
   "outputs": [
    {
     "data": {
      "application/javascript": [
       "\n",
       "            setTimeout(function() {\n",
       "                var nbb_cell_id = 25;\n",
       "                var nbb_unformatted_code = \"def get_best_bid_ask(bids, asks):\\n\\n    return json.loads(bids)[0][0], json.loads(asks)[0][0]\";\n",
       "                var nbb_formatted_code = \"def get_best_bid_ask(bids, asks):\\n\\n    return json.loads(bids)[0][0], json.loads(asks)[0][0]\";\n",
       "                var nbb_cells = Jupyter.notebook.get_cells();\n",
       "                for (var i = 0; i < nbb_cells.length; ++i) {\n",
       "                    if (nbb_cells[i].input_prompt_number == nbb_cell_id) {\n",
       "                        if (nbb_cells[i].get_text() == nbb_unformatted_code) {\n",
       "                             nbb_cells[i].set_text(nbb_formatted_code);\n",
       "                        }\n",
       "                        break;\n",
       "                    }\n",
       "                }\n",
       "            }, 500);\n",
       "            "
      ],
      "text/plain": [
       "<IPython.core.display.Javascript object>"
      ]
     },
     "metadata": {},
     "output_type": "display_data"
    }
   ],
   "source": [
    "def get_best_bid_ask(bids, asks):\n",
    "\n",
    "    return json.loads(bids)[0][0], json.loads(asks)[0][0]"
   ]
  },
  {
   "cell_type": "code",
   "execution_count": 26,
   "id": "32e5b681",
   "metadata": {},
   "outputs": [
    {
     "data": {
      "application/javascript": [
       "\n",
       "            setTimeout(function() {\n",
       "                var nbb_cell_id = 26;\n",
       "                var nbb_unformatted_code = \"def get_spread(bids, asks) -> float:\\n\\n    P_b, P_a = get_best_bid_ask(bids, asks)\\n    return P_a - P_b\";\n",
       "                var nbb_formatted_code = \"def get_spread(bids, asks) -> float:\\n\\n    P_b, P_a = get_best_bid_ask(bids, asks)\\n    return P_a - P_b\";\n",
       "                var nbb_cells = Jupyter.notebook.get_cells();\n",
       "                for (var i = 0; i < nbb_cells.length; ++i) {\n",
       "                    if (nbb_cells[i].input_prompt_number == nbb_cell_id) {\n",
       "                        if (nbb_cells[i].get_text() == nbb_unformatted_code) {\n",
       "                             nbb_cells[i].set_text(nbb_formatted_code);\n",
       "                        }\n",
       "                        break;\n",
       "                    }\n",
       "                }\n",
       "            }, 500);\n",
       "            "
      ],
      "text/plain": [
       "<IPython.core.display.Javascript object>"
      ]
     },
     "metadata": {},
     "output_type": "display_data"
    }
   ],
   "source": [
    "def get_spread(bids, asks) -> float:\n",
    "\n",
    "    P_b, P_a = get_best_bid_ask(bids, asks)\n",
    "    return P_a - P_b"
   ]
  },
  {
   "cell_type": "code",
   "execution_count": 27,
   "id": "10171590",
   "metadata": {},
   "outputs": [
    {
     "data": {
      "application/javascript": [
       "\n",
       "            setTimeout(function() {\n",
       "                var nbb_cell_id = 27;\n",
       "                var nbb_unformatted_code = \"def get_mid_price(bids, asks) -> float:\\n\\n    P_b, P_a = get_best_bid_ask(bids, asks)\\n\\n    return (P_b + P_a) / 2\";\n",
       "                var nbb_formatted_code = \"def get_mid_price(bids, asks) -> float:\\n\\n    P_b, P_a = get_best_bid_ask(bids, asks)\\n\\n    return (P_b + P_a) / 2\";\n",
       "                var nbb_cells = Jupyter.notebook.get_cells();\n",
       "                for (var i = 0; i < nbb_cells.length; ++i) {\n",
       "                    if (nbb_cells[i].input_prompt_number == nbb_cell_id) {\n",
       "                        if (nbb_cells[i].get_text() == nbb_unformatted_code) {\n",
       "                             nbb_cells[i].set_text(nbb_formatted_code);\n",
       "                        }\n",
       "                        break;\n",
       "                    }\n",
       "                }\n",
       "            }, 500);\n",
       "            "
      ],
      "text/plain": [
       "<IPython.core.display.Javascript object>"
      ]
     },
     "metadata": {},
     "output_type": "display_data"
    }
   ],
   "source": [
    "def get_mid_price(bids, asks) -> float:\n",
    "\n",
    "    P_b, P_a = get_best_bid_ask(bids, asks)\n",
    "\n",
    "    return (P_b + P_a) / 2"
   ]
  },
  {
   "cell_type": "code",
   "execution_count": 28,
   "id": "a5d81533",
   "metadata": {},
   "outputs": [
    {
     "data": {
      "application/javascript": [
       "\n",
       "            setTimeout(function() {\n",
       "                var nbb_cell_id = 28;\n",
       "                var nbb_unformatted_code = \"def get_sum_bids_and_asks(bids, asks, l: int):\\n\\n    bids, asks = get_bids_and_asks(bids, asks)\\n    l = min(min(len(bids), l), min(len(asks), l))\\n\\n    sum_bids = sum([x[1] for i, x in enumerate(bids) if i <= l - 1])\\n\\n    sum_asks = sum([x[1] for i, x in enumerate(asks) if i <= l - 1])\\n\\n    return sum_bids, sum_asks\";\n",
       "                var nbb_formatted_code = \"def get_sum_bids_and_asks(bids, asks, l: int):\\n\\n    bids, asks = get_bids_and_asks(bids, asks)\\n    l = min(min(len(bids), l), min(len(asks), l))\\n\\n    sum_bids = sum([x[1] for i, x in enumerate(bids) if i <= l - 1])\\n\\n    sum_asks = sum([x[1] for i, x in enumerate(asks) if i <= l - 1])\\n\\n    return sum_bids, sum_asks\";\n",
       "                var nbb_cells = Jupyter.notebook.get_cells();\n",
       "                for (var i = 0; i < nbb_cells.length; ++i) {\n",
       "                    if (nbb_cells[i].input_prompt_number == nbb_cell_id) {\n",
       "                        if (nbb_cells[i].get_text() == nbb_unformatted_code) {\n",
       "                             nbb_cells[i].set_text(nbb_formatted_code);\n",
       "                        }\n",
       "                        break;\n",
       "                    }\n",
       "                }\n",
       "            }, 500);\n",
       "            "
      ],
      "text/plain": [
       "<IPython.core.display.Javascript object>"
      ]
     },
     "metadata": {},
     "output_type": "display_data"
    }
   ],
   "source": [
    "def get_sum_bids_and_asks(bids, asks, l: int):\n",
    "\n",
    "    bids, asks = get_bids_and_asks(bids, asks)\n",
    "    l = min(min(len(bids), l), min(len(asks), l))\n",
    "\n",
    "    sum_bids = sum([x[1] for i, x in enumerate(bids) if i <= l - 1])\n",
    "\n",
    "    sum_asks = sum([x[1] for i, x in enumerate(asks) if i <= l - 1])\n",
    "\n",
    "    return sum_bids, sum_asks"
   ]
  },
  {
   "cell_type": "code",
   "execution_count": null,
   "id": "a35467be",
   "metadata": {},
   "outputs": [],
   "source": []
  },
  {
   "cell_type": "markdown",
   "id": "d7692820",
   "metadata": {},
   "source": [
    "## Create Depth Chart (gif format)"
   ]
  },
  {
   "cell_type": "code",
   "execution_count": 29,
   "id": "73527b9b",
   "metadata": {},
   "outputs": [
    {
     "data": {
      "application/javascript": [
       "\n",
       "            setTimeout(function() {\n",
       "                var nbb_cell_id = 29;\n",
       "                var nbb_unformatted_code = \"@gif.frame\\ndef plot_depth_chart(index_time):\\n\\n    b, a = get_bids_and_asks_for_specific_datetime(index_time)\\n    b = pd.DataFrame(b, columns=[\\\"price\\\", \\\"amount\\\"])\\n    b[\\\"side\\\"] = [\\\"bid\\\"] * len(b)\\n    a = pd.DataFrame(a, columns=[\\\"price\\\", \\\"amount\\\"])\\n    a[\\\"side\\\"] = [\\\"ask\\\"] * len(a)\\n    Depth_chart_data = pd.concat([a, b])\\n\\n    # ECDF plot using\\n    fig, ax = plt.subplots()\\n    ax.set_title(\\\"Order book\\\" + \\\", \\\" + str(index_time))\\n    # bid side\\n    sns.ecdfplot(\\n        x=\\\"price\\\",\\n        weights=\\\"amount\\\",\\n        stat=\\\"count\\\",\\n        complementary=True,\\n        data=Depth_chart_data[Depth_chart_data.side == \\\"bid\\\"],\\n        ax=ax,\\n        color=\\\"g\\\",\\n    )\\n\\n    # ask side\\n    sns.ecdfplot(\\n        x=\\\"price\\\",\\n        weights=\\\"amount\\\",\\n        stat=\\\"count\\\",\\n        data=Depth_chart_data[Depth_chart_data.side == \\\"ask\\\"],\\n        ax=ax,\\n        color=\\\"r\\\",\\n    )\\n    ax.set_xlabel(\\\"Price\\\")\\n    ax.set_ylabel(\\\"Amount\\\")\";\n",
       "                var nbb_formatted_code = \"@gif.frame\\ndef plot_depth_chart(index_time):\\n\\n    b, a = get_bids_and_asks_for_specific_datetime(index_time)\\n    b = pd.DataFrame(b, columns=[\\\"price\\\", \\\"amount\\\"])\\n    b[\\\"side\\\"] = [\\\"bid\\\"] * len(b)\\n    a = pd.DataFrame(a, columns=[\\\"price\\\", \\\"amount\\\"])\\n    a[\\\"side\\\"] = [\\\"ask\\\"] * len(a)\\n    Depth_chart_data = pd.concat([a, b])\\n\\n    # ECDF plot using\\n    fig, ax = plt.subplots()\\n    ax.set_title(\\\"Order book\\\" + \\\", \\\" + str(index_time))\\n    # bid side\\n    sns.ecdfplot(\\n        x=\\\"price\\\",\\n        weights=\\\"amount\\\",\\n        stat=\\\"count\\\",\\n        complementary=True,\\n        data=Depth_chart_data[Depth_chart_data.side == \\\"bid\\\"],\\n        ax=ax,\\n        color=\\\"g\\\",\\n    )\\n\\n    # ask side\\n    sns.ecdfplot(\\n        x=\\\"price\\\",\\n        weights=\\\"amount\\\",\\n        stat=\\\"count\\\",\\n        data=Depth_chart_data[Depth_chart_data.side == \\\"ask\\\"],\\n        ax=ax,\\n        color=\\\"r\\\",\\n    )\\n    ax.set_xlabel(\\\"Price\\\")\\n    ax.set_ylabel(\\\"Amount\\\")\";\n",
       "                var nbb_cells = Jupyter.notebook.get_cells();\n",
       "                for (var i = 0; i < nbb_cells.length; ++i) {\n",
       "                    if (nbb_cells[i].input_prompt_number == nbb_cell_id) {\n",
       "                        if (nbb_cells[i].get_text() == nbb_unformatted_code) {\n",
       "                             nbb_cells[i].set_text(nbb_formatted_code);\n",
       "                        }\n",
       "                        break;\n",
       "                    }\n",
       "                }\n",
       "            }, 500);\n",
       "            "
      ],
      "text/plain": [
       "<IPython.core.display.Javascript object>"
      ]
     },
     "metadata": {},
     "output_type": "display_data"
    }
   ],
   "source": [
    "@gif.frame\n",
    "def plot_depth_chart(index_time):\n",
    "\n",
    "    b, a = get_bids_and_asks_for_specific_datetime(index_time)\n",
    "    b = pd.DataFrame(b, columns=[\"price\", \"amount\"])\n",
    "    b[\"side\"] = [\"bid\"] * len(b)\n",
    "    a = pd.DataFrame(a, columns=[\"price\", \"amount\"])\n",
    "    a[\"side\"] = [\"ask\"] * len(a)\n",
    "    Depth_chart_data = pd.concat([a, b])\n",
    "\n",
    "    # ECDF plot using\n",
    "    fig, ax = plt.subplots()\n",
    "    ax.set_title(\"Order book\" + \", \" + str(index_time))\n",
    "    # bid side\n",
    "    sns.ecdfplot(\n",
    "        x=\"price\",\n",
    "        weights=\"amount\",\n",
    "        stat=\"count\",\n",
    "        complementary=True,\n",
    "        data=Depth_chart_data[Depth_chart_data.side == \"bid\"],\n",
    "        ax=ax,\n",
    "        color=\"g\",\n",
    "    )\n",
    "\n",
    "    # ask side\n",
    "    sns.ecdfplot(\n",
    "        x=\"price\",\n",
    "        weights=\"amount\",\n",
    "        stat=\"count\",\n",
    "        data=Depth_chart_data[Depth_chart_data.side == \"ask\"],\n",
    "        ax=ax,\n",
    "        color=\"r\",\n",
    "    )\n",
    "    ax.set_xlabel(\"Price\")\n",
    "    ax.set_ylabel(\"Amount\")"
   ]
  },
  {
   "cell_type": "code",
   "execution_count": 30,
   "id": "5fcae9c3",
   "metadata": {},
   "outputs": [
    {
     "data": {
      "application/javascript": [
       "\n",
       "            setTimeout(function() {\n",
       "                var nbb_cell_id = 30;\n",
       "                var nbb_unformatted_code = \"frames = []\\nfor index_time in order_book.index[1000:1055]:\\n    frames.append(plot_depth_chart(index_time))\";\n",
       "                var nbb_formatted_code = \"frames = []\\nfor index_time in order_book.index[1000:1055]:\\n    frames.append(plot_depth_chart(index_time))\";\n",
       "                var nbb_cells = Jupyter.notebook.get_cells();\n",
       "                for (var i = 0; i < nbb_cells.length; ++i) {\n",
       "                    if (nbb_cells[i].input_prompt_number == nbb_cell_id) {\n",
       "                        if (nbb_cells[i].get_text() == nbb_unformatted_code) {\n",
       "                             nbb_cells[i].set_text(nbb_formatted_code);\n",
       "                        }\n",
       "                        break;\n",
       "                    }\n",
       "                }\n",
       "            }, 500);\n",
       "            "
      ],
      "text/plain": [
       "<IPython.core.display.Javascript object>"
      ]
     },
     "metadata": {},
     "output_type": "display_data"
    }
   ],
   "source": [
    "frames = []\n",
    "for index_time in order_book.index[1000:1055]:\n",
    "    frames.append(plot_depth_chart(index_time))"
   ]
  },
  {
   "cell_type": "code",
   "execution_count": 32,
   "id": "d78cb3d3",
   "metadata": {},
   "outputs": [
    {
     "data": {
      "application/javascript": [
       "\n",
       "            setTimeout(function() {\n",
       "                var nbb_cell_id = 32;\n",
       "                var nbb_unformatted_code = \"gif.save(frames, \\\"Depth_Chart.gif\\\", duration=60)\";\n",
       "                var nbb_formatted_code = \"gif.save(frames, \\\"Depth_Chart.gif\\\", duration=60)\";\n",
       "                var nbb_cells = Jupyter.notebook.get_cells();\n",
       "                for (var i = 0; i < nbb_cells.length; ++i) {\n",
       "                    if (nbb_cells[i].input_prompt_number == nbb_cell_id) {\n",
       "                        if (nbb_cells[i].get_text() == nbb_unformatted_code) {\n",
       "                             nbb_cells[i].set_text(nbb_formatted_code);\n",
       "                        }\n",
       "                        break;\n",
       "                    }\n",
       "                }\n",
       "            }, 500);\n",
       "            "
      ],
      "text/plain": [
       "<IPython.core.display.Javascript object>"
      ]
     },
     "metadata": {},
     "output_type": "display_data"
    }
   ],
   "source": [
    "gif.save(frames, \"Depth_Chart.gif\", duration=60)"
   ]
  },
  {
   "cell_type": "markdown",
   "id": "3d3b0a6e",
   "metadata": {},
   "source": [
    "### computing `mid_price` on the order book data set"
   ]
  },
  {
   "cell_type": "code",
   "execution_count": 33,
   "id": "6c9b885d",
   "metadata": {},
   "outputs": [
    {
     "data": {
      "application/javascript": [
       "\n",
       "            setTimeout(function() {\n",
       "                var nbb_cell_id = 33;\n",
       "                var nbb_unformatted_code = \"order_book[\\\"mid_price\\\"] = order_book.apply(\\n    lambda row: get_mid_price(row[\\\"bids\\\"], row[\\\"asks\\\"]), axis=1,\\n)\";\n",
       "                var nbb_formatted_code = \"order_book[\\\"mid_price\\\"] = order_book.apply(\\n    lambda row: get_mid_price(row[\\\"bids\\\"], row[\\\"asks\\\"]), axis=1,\\n)\";\n",
       "                var nbb_cells = Jupyter.notebook.get_cells();\n",
       "                for (var i = 0; i < nbb_cells.length; ++i) {\n",
       "                    if (nbb_cells[i].input_prompt_number == nbb_cell_id) {\n",
       "                        if (nbb_cells[i].get_text() == nbb_unformatted_code) {\n",
       "                             nbb_cells[i].set_text(nbb_formatted_code);\n",
       "                        }\n",
       "                        break;\n",
       "                    }\n",
       "                }\n",
       "            }, 500);\n",
       "            "
      ],
      "text/plain": [
       "<IPython.core.display.Javascript object>"
      ]
     },
     "metadata": {},
     "output_type": "display_data"
    }
   ],
   "source": [
    "order_book[\"mid_price\"] = order_book.apply(\n",
    "    lambda row: get_mid_price(row[\"bids\"], row[\"asks\"]), axis=1,\n",
    ")"
   ]
  },
  {
   "cell_type": "markdown",
   "id": "389b42a4",
   "metadata": {},
   "source": [
    "## Analyzing the `spread` from the `order book` data set"
   ]
  },
  {
   "cell_type": "code",
   "execution_count": 34,
   "id": "e13b26cc",
   "metadata": {},
   "outputs": [
    {
     "data": {
      "application/javascript": [
       "\n",
       "            setTimeout(function() {\n",
       "                var nbb_cell_id = 34;\n",
       "                var nbb_unformatted_code = \"order_book[\\\"spread\\\"] = order_book.apply(\\n    lambda row: get_spread(row[\\\"bids\\\"], row[\\\"asks\\\"]), axis=1,\\n)\";\n",
       "                var nbb_formatted_code = \"order_book[\\\"spread\\\"] = order_book.apply(\\n    lambda row: get_spread(row[\\\"bids\\\"], row[\\\"asks\\\"]), axis=1,\\n)\";\n",
       "                var nbb_cells = Jupyter.notebook.get_cells();\n",
       "                for (var i = 0; i < nbb_cells.length; ++i) {\n",
       "                    if (nbb_cells[i].input_prompt_number == nbb_cell_id) {\n",
       "                        if (nbb_cells[i].get_text() == nbb_unformatted_code) {\n",
       "                             nbb_cells[i].set_text(nbb_formatted_code);\n",
       "                        }\n",
       "                        break;\n",
       "                    }\n",
       "                }\n",
       "            }, 500);\n",
       "            "
      ],
      "text/plain": [
       "<IPython.core.display.Javascript object>"
      ]
     },
     "metadata": {},
     "output_type": "display_data"
    }
   ],
   "source": [
    "order_book[\"spread\"] = order_book.apply(\n",
    "    lambda row: get_spread(row[\"bids\"], row[\"asks\"]), axis=1,\n",
    ")"
   ]
  },
  {
   "cell_type": "code",
   "execution_count": 35,
   "id": "f8a95dd8",
   "metadata": {},
   "outputs": [
    {
     "data": {
      "text/plain": [
       "{'count': 96858.0,\n",
       " 'mean': 4.5444671581065355e-08,\n",
       " 'std': 2.012364035333856e-08,\n",
       " 'min': 9.999999999994822e-09,\n",
       " '25%': 3.000000000000141e-08,\n",
       " '50%': 4.0000000000003005e-08,\n",
       " '75%': 5.999999999999943e-08,\n",
       " 'max': 8.300000000000005e-07}"
      ]
     },
     "execution_count": 35,
     "metadata": {},
     "output_type": "execute_result"
    },
    {
     "data": {
      "application/javascript": [
       "\n",
       "            setTimeout(function() {\n",
       "                var nbb_cell_id = 35;\n",
       "                var nbb_unformatted_code = \"dict(order_book[\\\"spread\\\"].describe())\";\n",
       "                var nbb_formatted_code = \"dict(order_book[\\\"spread\\\"].describe())\";\n",
       "                var nbb_cells = Jupyter.notebook.get_cells();\n",
       "                for (var i = 0; i < nbb_cells.length; ++i) {\n",
       "                    if (nbb_cells[i].input_prompt_number == nbb_cell_id) {\n",
       "                        if (nbb_cells[i].get_text() == nbb_unformatted_code) {\n",
       "                             nbb_cells[i].set_text(nbb_formatted_code);\n",
       "                        }\n",
       "                        break;\n",
       "                    }\n",
       "                }\n",
       "            }, 500);\n",
       "            "
      ],
      "text/plain": [
       "<IPython.core.display.Javascript object>"
      ]
     },
     "metadata": {},
     "output_type": "display_data"
    }
   ],
   "source": [
    "dict(order_book[\"spread\"].describe())"
   ]
  },
  {
   "cell_type": "code",
   "execution_count": 36,
   "id": "9074b334",
   "metadata": {},
   "outputs": [
    {
     "data": {
      "image/png": "[encoded data removed]",
      "text/plain": [
       "<Figure size 720x360 with 1 Axes>"
      ]
     },
     "metadata": {
      "needs_background": "light"
     },
     "output_type": "display_data"
    },
    {
     "data": {
      "application/javascript": [
       "\n",
       "            setTimeout(function() {\n",
       "                var nbb_cell_id = 36;\n",
       "                var nbb_unformatted_code = \"plt.figure(figsize=(10, 5))\\norder_book[\\\"spread\\\"][order_book[\\\"spread\\\"].le(order_book[\\\"spread\\\"].quantile(0.99))].hist(\\n    density=True\\n)\\nplt.title(\\\"histogram of the spread\\\", fontsize=16)\\nplt.show()\";\n",
       "                var nbb_formatted_code = \"plt.figure(figsize=(10, 5))\\norder_book[\\\"spread\\\"][order_book[\\\"spread\\\"].le(order_book[\\\"spread\\\"].quantile(0.99))].hist(\\n    density=True\\n)\\nplt.title(\\\"histogram of the spread\\\", fontsize=16)\\nplt.show()\";\n",
       "                var nbb_cells = Jupyter.notebook.get_cells();\n",
       "                for (var i = 0; i < nbb_cells.length; ++i) {\n",
       "                    if (nbb_cells[i].input_prompt_number == nbb_cell_id) {\n",
       "                        if (nbb_cells[i].get_text() == nbb_unformatted_code) {\n",
       "                             nbb_cells[i].set_text(nbb_formatted_code);\n",
       "                        }\n",
       "                        break;\n",
       "                    }\n",
       "                }\n",
       "            }, 500);\n",
       "            "
      ],
      "text/plain": [
       "<IPython.core.display.Javascript object>"
      ]
     },
     "metadata": {},
     "output_type": "display_data"
    }
   ],
   "source": [
    "plt.figure(figsize=(10, 5))\n",
    "order_book[\"spread\"][order_book[\"spread\"].le(order_book[\"spread\"].quantile(0.99))].hist(\n",
    "    density=True\n",
    ")\n",
    "plt.title(\"histogram of the spread\", fontsize=16)\n",
    "plt.show()"
   ]
  },
  {
   "cell_type": "code",
   "execution_count": 38,
   "id": "7972ab2c",
   "metadata": {},
   "outputs": [
    {
     "data": {
      "image/png": "[encoded data removed]",
      "text/plain": [
       "<Figure size 720x360 with 1 Axes>"
      ]
     },
     "execution_count": 38,
     "metadata": {},
     "output_type": "execute_result"
    },
    {
     "data": {
      "image/png": "[encoded data removed]",
      "text/plain": [
       "<Figure size 720x360 with 1 Axes>"
      ]
     },
     "metadata": {
      "needs_background": "light"
     },
     "output_type": "display_data"
    },
    {
     "data": {
      "application/javascript": [
       "\n",
       "            setTimeout(function() {\n",
       "                var nbb_cell_id = 38;\n",
       "                var nbb_unformatted_code = \"fig, ax = plt.subplots(figsize=(10, 5))\\n\\nplot_acf(order_book[\\\"spread\\\"], ax = ax)\";\n",
       "                var nbb_formatted_code = \"fig, ax = plt.subplots(figsize=(10, 5))\\n\\nplot_acf(order_book[\\\"spread\\\"], ax=ax)\";\n",
       "                var nbb_cells = Jupyter.notebook.get_cells();\n",
       "                for (var i = 0; i < nbb_cells.length; ++i) {\n",
       "                    if (nbb_cells[i].input_prompt_number == nbb_cell_id) {\n",
       "                        if (nbb_cells[i].get_text() == nbb_unformatted_code) {\n",
       "                             nbb_cells[i].set_text(nbb_formatted_code);\n",
       "                        }\n",
       "                        break;\n",
       "                    }\n",
       "                }\n",
       "            }, 500);\n",
       "            "
      ],
      "text/plain": [
       "<IPython.core.display.Javascript object>"
      ]
     },
     "metadata": {},
     "output_type": "display_data"
    }
   ],
   "source": [
    "fig, ax = plt.subplots(figsize=(10, 5))\n",
    "plot_acf(order_book[\"spread\"], ax=ax)"
   ]
  },
  {
   "cell_type": "code",
   "execution_count": 39,
   "id": "9bce2412",
   "metadata": {},
   "outputs": [
    {
     "data": {
      "application/javascript": [
       "\n",
       "            setTimeout(function() {\n",
       "                var nbb_cell_id = 39;\n",
       "                var nbb_unformatted_code = \"def ADF_test(timeseries):\\n    print(\\\"Results of Dickey-Fuller Test:\\\")\\n    dftest = adfuller(timeseries, autolag=\\\"AIC\\\")\\n    dfoutput = pd.Series(\\n        dftest[0:4],\\n        index=[\\n            \\\"Test Statistic\\\",\\n            \\\"p-value\\\",\\n            \\\"Lags Used\\\",\\n            \\\"Number of Observations Used\\\",\\n        ],\\n    )\\n    for key, value in dftest[4].items():\\n        dfoutput[\\\"Critical Value (%s)\\\" % key] = value\\n    print(dfoutput)\";\n",
       "                var nbb_formatted_code = \"def ADF_test(timeseries):\\n    print(\\\"Results of Dickey-Fuller Test:\\\")\\n    dftest = adfuller(timeseries, autolag=\\\"AIC\\\")\\n    dfoutput = pd.Series(\\n        dftest[0:4],\\n        index=[\\n            \\\"Test Statistic\\\",\\n            \\\"p-value\\\",\\n            \\\"Lags Used\\\",\\n            \\\"Number of Observations Used\\\",\\n        ],\\n    )\\n    for key, value in dftest[4].items():\\n        dfoutput[\\\"Critical Value (%s)\\\" % key] = value\\n    print(dfoutput)\";\n",
       "                var nbb_cells = Jupyter.notebook.get_cells();\n",
       "                for (var i = 0; i < nbb_cells.length; ++i) {\n",
       "                    if (nbb_cells[i].input_prompt_number == nbb_cell_id) {\n",
       "                        if (nbb_cells[i].get_text() == nbb_unformatted_code) {\n",
       "                             nbb_cells[i].set_text(nbb_formatted_code);\n",
       "                        }\n",
       "                        break;\n",
       "                    }\n",
       "                }\n",
       "            }, 500);\n",
       "            "
      ],
      "text/plain": [
       "<IPython.core.display.Javascript object>"
      ]
     },
     "metadata": {},
     "output_type": "display_data"
    }
   ],
   "source": [
    "def ADF_test(timeseries):\n",
    "    print(\"Results of Dickey-Fuller Test:\")\n",
    "    dftest = adfuller(timeseries, autolag=\"AIC\")\n",
    "    dfoutput = pd.Series(\n",
    "        dftest[0:4],\n",
    "        index=[\n",
    "            \"Test Statistic\",\n",
    "            \"p-value\",\n",
    "            \"Lags Used\",\n",
    "            \"Number of Observations Used\",\n",
    "        ],\n",
    "    )\n",
    "    for key, value in dftest[4].items():\n",
    "        dfoutput[\"Critical Value (%s)\" % key] = value\n",
    "    print(dfoutput)"
   ]
  },
  {
   "cell_type": "code",
   "execution_count": 40,
   "id": "e5977c5e",
   "metadata": {},
   "outputs": [
    {
     "name": "stdout",
     "output_type": "stream",
     "text": [
      "Results of Dickey-Fuller Test:\n",
      "Test Statistic                   -22.555387\n",
      "p-value                            0.000000\n",
      "Lags Used                         67.000000\n",
      "Number of Observations Used    96790.000000\n",
      "Critical Value (1%)               -3.430418\n",
      "Critical Value (5%)               -2.861570\n",
      "Critical Value (10%)              -2.566786\n",
      "dtype: float64\n"
     ]
    },
    {
     "data": {
      "application/javascript": [
       "\n",
       "            setTimeout(function() {\n",
       "                var nbb_cell_id = 40;\n",
       "                var nbb_unformatted_code = \"ADF_test(order_book[\\\"spread\\\"])\";\n",
       "                var nbb_formatted_code = \"ADF_test(order_book[\\\"spread\\\"])\";\n",
       "                var nbb_cells = Jupyter.notebook.get_cells();\n",
       "                for (var i = 0; i < nbb_cells.length; ++i) {\n",
       "                    if (nbb_cells[i].input_prompt_number == nbb_cell_id) {\n",
       "                        if (nbb_cells[i].get_text() == nbb_unformatted_code) {\n",
       "                             nbb_cells[i].set_text(nbb_formatted_code);\n",
       "                        }\n",
       "                        break;\n",
       "                    }\n",
       "                }\n",
       "            }, 500);\n",
       "            "
      ],
      "text/plain": [
       "<IPython.core.display.Javascript object>"
      ]
     },
     "metadata": {},
     "output_type": "display_data"
    }
   ],
   "source": [
    "ADF_test(order_book[\"spread\"])"
   ]
  },
  {
   "cell_type": "code",
   "execution_count": 41,
   "id": "f73ffef5",
   "metadata": {},
   "outputs": [
    {
     "data": {
      "image/png": "[encoded data removed]",
      "text/plain": [
       "<Figure size 720x360 with 1 Axes>"
      ]
     },
     "metadata": {
      "needs_background": "light"
     },
     "output_type": "display_data"
    },
    {
     "data": {
      "application/javascript": [
       "\n",
       "            setTimeout(function() {\n",
       "                var nbb_cell_id = 41;\n",
       "                var nbb_unformatted_code = \"order_book[\\\"spread\\\"].plot(figsize=(10, 5))\\nplt.title(\\\"spread with respect to the time\\\")\\nplt.show()\";\n",
       "                var nbb_formatted_code = \"order_book[\\\"spread\\\"].plot(figsize=(10, 5))\\nplt.title(\\\"spread with respect to the time\\\")\\nplt.show()\";\n",
       "                var nbb_cells = Jupyter.notebook.get_cells();\n",
       "                for (var i = 0; i < nbb_cells.length; ++i) {\n",
       "                    if (nbb_cells[i].input_prompt_number == nbb_cell_id) {\n",
       "                        if (nbb_cells[i].get_text() == nbb_unformatted_code) {\n",
       "                             nbb_cells[i].set_text(nbb_formatted_code);\n",
       "                        }\n",
       "                        break;\n",
       "                    }\n",
       "                }\n",
       "            }, 500);\n",
       "            "
      ],
      "text/plain": [
       "<IPython.core.display.Javascript object>"
      ]
     },
     "metadata": {},
     "output_type": "display_data"
    }
   ],
   "source": [
    "order_book[\"spread\"].plot(figsize=(10, 5))\n",
    "plt.title(\"spread with respect to the time\")\n",
    "plt.show()"
   ]
  },
  {
   "cell_type": "code",
   "execution_count": 42,
   "id": "3ca34286",
   "metadata": {},
   "outputs": [
    {
     "data": {
      "text/plain": [
       "lastUpdated\n",
       "2020-07-30 09:07:41.170    8.300000e-07\n",
       "Name: spread, dtype: float64"
      ]
     },
     "execution_count": 42,
     "metadata": {},
     "output_type": "execute_result"
    },
    {
     "data": {
      "application/javascript": [
       "\n",
       "            setTimeout(function() {\n",
       "                var nbb_cell_id = 42;\n",
       "                var nbb_unformatted_code = \"order_book[\\\"spread\\\"][order_book[\\\"spread\\\"] >=  7* 10 ** (-7)]\";\n",
       "                var nbb_formatted_code = \"order_book[\\\"spread\\\"][order_book[\\\"spread\\\"] >= 7 * 10 ** (-7)]\";\n",
       "                var nbb_cells = Jupyter.notebook.get_cells();\n",
       "                for (var i = 0; i < nbb_cells.length; ++i) {\n",
       "                    if (nbb_cells[i].input_prompt_number == nbb_cell_id) {\n",
       "                        if (nbb_cells[i].get_text() == nbb_unformatted_code) {\n",
       "                             nbb_cells[i].set_text(nbb_formatted_code);\n",
       "                        }\n",
       "                        break;\n",
       "                    }\n",
       "                }\n",
       "            }, 500);\n",
       "            "
      ],
      "text/plain": [
       "<IPython.core.display.Javascript object>"
      ]
     },
     "metadata": {},
     "output_type": "display_data"
    }
   ],
   "source": [
    "order_book[\"spread\"][order_book[\"spread\"] >=  7* 10 ** (-7)]\n"
   ]
  },
  {
   "cell_type": "markdown",
   "id": "6c53a99d",
   "metadata": {},
   "source": [
    "### CCL : Successive spreads are very correlated and the autocorrelation function decreases slowly\n",
    "### => Use the last previous spread for the market-making strategy (especially strategy 1)."
   ]
  },
  {
   "cell_type": "markdown",
   "id": "156ee2e4",
   "metadata": {},
   "source": [
    "## Analyzing mid-price return"
   ]
  },
  {
   "cell_type": "code",
   "execution_count": 43,
   "id": "cf326cc4",
   "metadata": {},
   "outputs": [
    {
     "data": {
      "application/javascript": [
       "\n",
       "            setTimeout(function() {\n",
       "                var nbb_cell_id = 43;\n",
       "                var nbb_unformatted_code = \"order_book[\\\"mid_price_return\\\"] = order_book[\\\"mid_price\\\"].pct_change()\";\n",
       "                var nbb_formatted_code = \"order_book[\\\"mid_price_return\\\"] = order_book[\\\"mid_price\\\"].pct_change()\";\n",
       "                var nbb_cells = Jupyter.notebook.get_cells();\n",
       "                for (var i = 0; i < nbb_cells.length; ++i) {\n",
       "                    if (nbb_cells[i].input_prompt_number == nbb_cell_id) {\n",
       "                        if (nbb_cells[i].get_text() == nbb_unformatted_code) {\n",
       "                             nbb_cells[i].set_text(nbb_formatted_code);\n",
       "                        }\n",
       "                        break;\n",
       "                    }\n",
       "                }\n",
       "            }, 500);\n",
       "            "
      ],
      "text/plain": [
       "<IPython.core.display.Javascript object>"
      ]
     },
     "metadata": {},
     "output_type": "display_data"
    }
   ],
   "source": [
    "order_book[\"mid_price_return\"] = order_book[\"mid_price\"].pct_change()"
   ]
  },
  {
   "cell_type": "code",
   "execution_count": 44,
   "id": "f45ffc2a",
   "metadata": {},
   "outputs": [
    {
     "data": {
      "text/plain": [
       "{'count': 96857.0,\n",
       " 'mean': 3.723890485093621e-07,\n",
       " 'std': 0.000512271529602649,\n",
       " 'min': -0.01528502067973403,\n",
       " '25%': -0.00019186492709133418,\n",
       " '50%': 0.0,\n",
       " '75%': 0.00019087612139712107,\n",
       " 'max': 0.03128470936690109}"
      ]
     },
     "execution_count": 44,
     "metadata": {},
     "output_type": "execute_result"
    },
    {
     "data": {
      "application/javascript": [
       "\n",
       "            setTimeout(function() {\n",
       "                var nbb_cell_id = 44;\n",
       "                var nbb_unformatted_code = \"dict(order_book[\\\"mid_price_return\\\"].describe())\";\n",
       "                var nbb_formatted_code = \"dict(order_book[\\\"mid_price_return\\\"].describe())\";\n",
       "                var nbb_cells = Jupyter.notebook.get_cells();\n",
       "                for (var i = 0; i < nbb_cells.length; ++i) {\n",
       "                    if (nbb_cells[i].input_prompt_number == nbb_cell_id) {\n",
       "                        if (nbb_cells[i].get_text() == nbb_unformatted_code) {\n",
       "                             nbb_cells[i].set_text(nbb_formatted_code);\n",
       "                        }\n",
       "                        break;\n",
       "                    }\n",
       "                }\n",
       "            }, 500);\n",
       "            "
      ],
      "text/plain": [
       "<IPython.core.display.Javascript object>"
      ]
     },
     "metadata": {},
     "output_type": "display_data"
    }
   ],
   "source": [
    "dict(order_book[\"mid_price_return\"].describe())"
   ]
  },
  {
   "cell_type": "code",
   "execution_count": 45,
   "id": "80701d51",
   "metadata": {},
   "outputs": [
    {
     "data": {
      "image/png": "[encoded data removed]",
      "text/plain": [
       "<Figure size 720x360 with 1 Axes>"
      ]
     },
     "metadata": {
      "needs_background": "light"
     },
     "output_type": "display_data"
    },
    {
     "data": {
      "application/javascript": [
       "\n",
       "            setTimeout(function() {\n",
       "                var nbb_cell_id = 45;\n",
       "                var nbb_unformatted_code = \"plt.figure(figsize=(10, 5))\\norder_book[\\\"mid_price_return\\\"][\\n    order_book[\\\"mid_price_return\\\"].le(order_book[\\\"mid_price_return\\\"].quantile(0.99))\\n    & order_book[\\\"mid_price_return\\\"].ge(order_book[\\\"mid_price_return\\\"].quantile(0.011))\\n].hist(density=True)\\nplt.title(\\\"histogram of mid price returns\\\", fontsize=16)\\n\\nplt.show()\";\n",
       "                var nbb_formatted_code = \"plt.figure(figsize=(10, 5))\\norder_book[\\\"mid_price_return\\\"][\\n    order_book[\\\"mid_price_return\\\"].le(order_book[\\\"mid_price_return\\\"].quantile(0.99))\\n    & order_book[\\\"mid_price_return\\\"].ge(order_book[\\\"mid_price_return\\\"].quantile(0.011))\\n].hist(density=True)\\nplt.title(\\\"histogram of mid price returns\\\", fontsize=16)\\n\\nplt.show()\";\n",
       "                var nbb_cells = Jupyter.notebook.get_cells();\n",
       "                for (var i = 0; i < nbb_cells.length; ++i) {\n",
       "                    if (nbb_cells[i].input_prompt_number == nbb_cell_id) {\n",
       "                        if (nbb_cells[i].get_text() == nbb_unformatted_code) {\n",
       "                             nbb_cells[i].set_text(nbb_formatted_code);\n",
       "                        }\n",
       "                        break;\n",
       "                    }\n",
       "                }\n",
       "            }, 500);\n",
       "            "
      ],
      "text/plain": [
       "<IPython.core.display.Javascript object>"
      ]
     },
     "metadata": {},
     "output_type": "display_data"
    }
   ],
   "source": [
    "plt.figure(figsize=(10, 5))\n",
    "order_book[\"mid_price_return\"][\n",
    "    order_book[\"mid_price_return\"].le(order_book[\"mid_price_return\"].quantile(0.99))\n",
    "    & order_book[\"mid_price_return\"].ge(order_book[\"mid_price_return\"].quantile(0.011))\n",
    "].hist(density=True)\n",
    "plt.title(\"histogram of mid price returns\", fontsize=16)\n",
    "\n",
    "plt.show()"
   ]
  },
  {
   "cell_type": "code",
   "execution_count": 46,
   "id": "5a7a2f42",
   "metadata": {},
   "outputs": [
    {
     "name": "stdout",
     "output_type": "stream",
     "text": [
      "Results of Dickey-Fuller Test:\n",
      "Test Statistic                   -39.964164\n",
      "p-value                            0.000000\n",
      "Lags Used                         65.000000\n",
      "Number of Observations Used    96791.000000\n",
      "Critical Value (1%)               -3.430418\n",
      "Critical Value (5%)               -2.861570\n",
      "Critical Value (10%)              -2.566786\n",
      "dtype: float64\n"
     ]
    },
    {
     "data": {
      "application/javascript": [
       "\n",
       "            setTimeout(function() {\n",
       "                var nbb_cell_id = 46;\n",
       "                var nbb_unformatted_code = \"ADF_test(order_book[\\\"mid_price_return\\\"].dropna())\";\n",
       "                var nbb_formatted_code = \"ADF_test(order_book[\\\"mid_price_return\\\"].dropna())\";\n",
       "                var nbb_cells = Jupyter.notebook.get_cells();\n",
       "                for (var i = 0; i < nbb_cells.length; ++i) {\n",
       "                    if (nbb_cells[i].input_prompt_number == nbb_cell_id) {\n",
       "                        if (nbb_cells[i].get_text() == nbb_unformatted_code) {\n",
       "                             nbb_cells[i].set_text(nbb_formatted_code);\n",
       "                        }\n",
       "                        break;\n",
       "                    }\n",
       "                }\n",
       "            }, 500);\n",
       "            "
      ],
      "text/plain": [
       "<IPython.core.display.Javascript object>"
      ]
     },
     "metadata": {},
     "output_type": "display_data"
    }
   ],
   "source": [
    "ADF_test(order_book[\"mid_price_return\"].dropna())"
   ]
  },
  {
   "cell_type": "code",
   "execution_count": 47,
   "id": "6b10dc43",
   "metadata": {},
   "outputs": [
    {
     "data": {
      "image/png": "[encoded data removed]",
      "text/plain": [
       "<Figure size 720x360 with 1 Axes>"
      ]
     },
     "execution_count": 47,
     "metadata": {},
     "output_type": "execute_result"
    },
    {
     "data": {
      "image/png": "[encoded data removed]",
      "text/plain": [
       "<Figure size 720x360 with 1 Axes>"
      ]
     },
     "metadata": {
      "needs_background": "light"
     },
     "output_type": "display_data"
    },
    {
     "data": {
      "application/javascript": [
       "\n",
       "            setTimeout(function() {\n",
       "                var nbb_cell_id = 47;\n",
       "                var nbb_unformatted_code = \"fig, ax = plt.subplots(figsize=(10, 5))\\n\\nplot_acf(order_book[\\\"mid_price_return\\\"].dropna(), ax = ax)\";\n",
       "                var nbb_formatted_code = \"fig, ax = plt.subplots(figsize=(10, 5))\\n\\nplot_acf(order_book[\\\"mid_price_return\\\"].dropna(), ax=ax)\";\n",
       "                var nbb_cells = Jupyter.notebook.get_cells();\n",
       "                for (var i = 0; i < nbb_cells.length; ++i) {\n",
       "                    if (nbb_cells[i].input_prompt_number == nbb_cell_id) {\n",
       "                        if (nbb_cells[i].get_text() == nbb_unformatted_code) {\n",
       "                             nbb_cells[i].set_text(nbb_formatted_code);\n",
       "                        }\n",
       "                        break;\n",
       "                    }\n",
       "                }\n",
       "            }, 500);\n",
       "            "
      ],
      "text/plain": [
       "<IPython.core.display.Javascript object>"
      ]
     },
     "metadata": {},
     "output_type": "display_data"
    }
   ],
   "source": [
    "fig, ax = plt.subplots(figsize=(10, 5))\n",
    "\n",
    "plot_acf(order_book[\"mid_price_return\"].dropna(), ax=ax)"
   ]
  },
  {
   "cell_type": "code",
   "execution_count": 48,
   "id": "f3c358d8",
   "metadata": {},
   "outputs": [
    {
     "data": {
      "application/javascript": [
       "\n",
       "            setTimeout(function() {\n",
       "                var nbb_cell_id = 48;\n",
       "                var nbb_unformatted_code = \"## CCL: mid price return not autocorrelated => can not be used to detect trends\";\n",
       "                var nbb_formatted_code = \"## CCL: mid price return not autocorrelated => can not be used to detect trends\";\n",
       "                var nbb_cells = Jupyter.notebook.get_cells();\n",
       "                for (var i = 0; i < nbb_cells.length; ++i) {\n",
       "                    if (nbb_cells[i].input_prompt_number == nbb_cell_id) {\n",
       "                        if (nbb_cells[i].get_text() == nbb_unformatted_code) {\n",
       "                             nbb_cells[i].set_text(nbb_formatted_code);\n",
       "                        }\n",
       "                        break;\n",
       "                    }\n",
       "                }\n",
       "            }, 500);\n",
       "            "
      ],
      "text/plain": [
       "<IPython.core.display.Javascript object>"
      ]
     },
     "metadata": {},
     "output_type": "display_data"
    }
   ],
   "source": [
    "## CCL: mid price return not autocorrelated => can not be used to detect trends"
   ]
  },
  {
   "cell_type": "markdown",
   "id": "8cbdee62",
   "metadata": {},
   "source": [
    "## Analyzing volatility as a function of the log returns of mid price"
   ]
  },
  {
   "cell_type": "code",
   "execution_count": 56,
   "id": "af7054b5",
   "metadata": {},
   "outputs": [
    {
     "data": {
      "image/png": "[encoded data removed]",
      "text/plain": [
       "<Figure size 720x360 with 1 Axes>"
      ]
     },
     "metadata": {
      "needs_background": "light"
     },
     "output_type": "display_data"
    },
    {
     "data": {
      "application/javascript": [
       "\n",
       "            setTimeout(function() {\n",
       "                var nbb_cell_id = 56;\n",
       "                var nbb_unformatted_code = \"order_book[\\\"vol\\\"] = (\\n    np.log(order_book[\\\"mid_price\\\"] / order_book[\\\"mid_price\\\"].shift()).rolling(9).std()\\n)\\n#order_book[\\\"mid_price_return\\\"].rolling(9).std().plot(figsize=(10, 5))\\norder_book[\\\"vol\\\"].plot(figsize=(10, 5))\\nplt.show()\";\n",
       "                var nbb_formatted_code = \"order_book[\\\"vol\\\"] = (\\n    np.log(order_book[\\\"mid_price\\\"] / order_book[\\\"mid_price\\\"].shift()).rolling(9).std()\\n)\\n# order_book[\\\"mid_price_return\\\"].rolling(9).std().plot(figsize=(10, 5))\\norder_book[\\\"vol\\\"].plot(figsize=(10, 5))\\nplt.show()\";\n",
       "                var nbb_cells = Jupyter.notebook.get_cells();\n",
       "                for (var i = 0; i < nbb_cells.length; ++i) {\n",
       "                    if (nbb_cells[i].input_prompt_number == nbb_cell_id) {\n",
       "                        if (nbb_cells[i].get_text() == nbb_unformatted_code) {\n",
       "                             nbb_cells[i].set_text(nbb_formatted_code);\n",
       "                        }\n",
       "                        break;\n",
       "                    }\n",
       "                }\n",
       "            }, 500);\n",
       "            "
      ],
      "text/plain": [
       "<IPython.core.display.Javascript object>"
      ]
     },
     "metadata": {},
     "output_type": "display_data"
    }
   ],
   "source": [
    "order_book[\"vol\"] = (\n",
    "    np.log(order_book[\"mid_price\"] / order_book[\"mid_price\"].shift()).rolling(9).std()\n",
    ")\n",
    "# order_book[\"mid_price_return\"].rolling(9).std().plot(figsize=(10, 5))\n",
    "order_book[\"vol\"].plot(figsize=(10, 5))\n",
    "plt.show()"
   ]
  },
  {
   "cell_type": "code",
   "execution_count": 57,
   "id": "dcbf0a28",
   "metadata": {},
   "outputs": [
    {
     "data": {
      "text/plain": [
       "lastUpdated\n",
       "2020-07-30 09:07:41.374    0.010059\n",
       "2020-07-30 09:07:41.475    0.010007\n",
       "2020-07-30 09:07:41.568    0.010029\n",
       "2020-07-30 09:07:41.670    0.010242\n",
       "2020-07-30 09:07:41.769    0.010242\n",
       "2020-07-30 09:07:41.869    0.010441\n",
       "2020-07-30 09:07:41.970    0.010460\n",
       "2020-07-30 09:08:02.079    0.010796\n",
       "2020-07-30 09:08:02.281    0.010725\n",
       "2020-07-30 09:08:02.381    0.010749\n",
       "2020-07-30 09:08:02.779    0.010839\n",
       "2020-07-30 09:08:02.980    0.010827\n",
       "2020-07-30 09:08:09.085    0.012101\n",
       "2020-07-30 09:08:09.191    0.012101\n",
       "2020-07-30 09:08:09.484    0.012095\n",
       "2020-07-30 09:08:09.583    0.012103\n",
       "Name: vol, dtype: float64"
      ]
     },
     "execution_count": 57,
     "metadata": {},
     "output_type": "execute_result"
    },
    {
     "data": {
      "application/javascript": [
       "\n",
       "            setTimeout(function() {\n",
       "                var nbb_cell_id = 57;\n",
       "                var nbb_unformatted_code = \"order_book[\\\"vol\\\"][order_book[\\\"vol\\\"] >= 0.010]\";\n",
       "                var nbb_formatted_code = \"order_book[\\\"vol\\\"][order_book[\\\"vol\\\"] >= 0.010]\";\n",
       "                var nbb_cells = Jupyter.notebook.get_cells();\n",
       "                for (var i = 0; i < nbb_cells.length; ++i) {\n",
       "                    if (nbb_cells[i].input_prompt_number == nbb_cell_id) {\n",
       "                        if (nbb_cells[i].get_text() == nbb_unformatted_code) {\n",
       "                             nbb_cells[i].set_text(nbb_formatted_code);\n",
       "                        }\n",
       "                        break;\n",
       "                    }\n",
       "                }\n",
       "            }, 500);\n",
       "            "
      ],
      "text/plain": [
       "<IPython.core.display.Javascript object>"
      ]
     },
     "metadata": {},
     "output_type": "display_data"
    }
   ],
   "source": [
    "order_book[\"vol\"][order_book[\"vol\"] >= 0.010]"
   ]
  },
  {
   "cell_type": "markdown",
   "id": "cb1b3db1",
   "metadata": {},
   "source": [
    "### Linear regression of the spread on the volatility "
   ]
  },
  {
   "cell_type": "code",
   "execution_count": 58,
   "id": "94d2de31",
   "metadata": {},
   "outputs": [
    {
     "data": {
      "application/javascript": [
       "\n",
       "            setTimeout(function() {\n",
       "                var nbb_cell_id = 58;\n",
       "                var nbb_unformatted_code = \"vol = order_book[\\\"vol\\\"]\\nvol.dropna(inplace=True)\\nX = vol.values.reshape(-1, 1)\\nX = sm.add_constant(X)\\nY = order_book['spread'][order_book['spread'].index >= vol.index[0]].values.reshape(-1, 1)\";\n",
       "                var nbb_formatted_code = \"vol = order_book[\\\"vol\\\"]\\nvol.dropna(inplace=True)\\nX = vol.values.reshape(-1, 1)\\nX = sm.add_constant(X)\\nY = order_book[\\\"spread\\\"][order_book[\\\"spread\\\"].index >= vol.index[0]].values.reshape(\\n    -1, 1\\n)\";\n",
       "                var nbb_cells = Jupyter.notebook.get_cells();\n",
       "                for (var i = 0; i < nbb_cells.length; ++i) {\n",
       "                    if (nbb_cells[i].input_prompt_number == nbb_cell_id) {\n",
       "                        if (nbb_cells[i].get_text() == nbb_unformatted_code) {\n",
       "                             nbb_cells[i].set_text(nbb_formatted_code);\n",
       "                        }\n",
       "                        break;\n",
       "                    }\n",
       "                }\n",
       "            }, 500);\n",
       "            "
      ],
      "text/plain": [
       "<IPython.core.display.Javascript object>"
      ]
     },
     "metadata": {},
     "output_type": "display_data"
    }
   ],
   "source": [
    "vol = order_book[\"vol\"]\n",
    "vol.dropna(inplace=True)\n",
    "X = vol.values.reshape(-1, 1)\n",
    "X = sm.add_constant(X)\n",
    "Y = order_book['spread'][order_book['spread'].index >= vol.index[0]].values.reshape(-1, 1)\n"
   ]
  },
  {
   "cell_type": "code",
   "execution_count": 59,
   "id": "04820845",
   "metadata": {},
   "outputs": [
    {
     "data": {
      "text/html": [
       "<table class=\"simpletable\">\n",
       "<caption>OLS Regression Results</caption>\n",
       "<tr>\n",
       "  <th>Dep. Variable:</th>            <td>y</td>        <th>  R-squared:         </th>  <td>   0.047</td> \n",
       "</tr>\n",
       "<tr>\n",
       "  <th>Model:</th>                   <td>OLS</td>       <th>  Adj. R-squared:    </th>  <td>   0.047</td> \n",
       "</tr>\n",
       "<tr>\n",
       "  <th>Method:</th>             <td>Least Squares</td>  <th>  F-statistic:       </th>  <td>   4733.</td> \n",
       "</tr>\n",
       "<tr>\n",
       "  <th>Date:</th>             <td>Fri, 07 Oct 2022</td> <th>  Prob (F-statistic):</th>   <td>  0.00</td>  \n",
       "</tr>\n",
       "<tr>\n",
       "  <th>Time:</th>                 <td>08:50:25</td>     <th>  Log-Likelihood:    </th> <td>1.5812e+06</td>\n",
       "</tr>\n",
       "<tr>\n",
       "  <th>No. Observations:</th>      <td> 96849</td>      <th>  AIC:               </th> <td>-3.162e+06</td>\n",
       "</tr>\n",
       "<tr>\n",
       "  <th>Df Residuals:</th>          <td> 96847</td>      <th>  BIC:               </th> <td>-3.162e+06</td>\n",
       "</tr>\n",
       "<tr>\n",
       "  <th>Df Model:</th>              <td>     1</td>      <th>                     </th>      <td> </td>    \n",
       "</tr>\n",
       "<tr>\n",
       "  <th>Covariance Type:</th>      <td>nonrobust</td>    <th>                     </th>      <td> </td>    \n",
       "</tr>\n",
       "</table>\n",
       "<table class=\"simpletable\">\n",
       "<tr>\n",
       "    <td></td>       <th>coef</th>     <th>std err</th>      <th>t</th>      <th>P>|t|</th>  <th>[0.025</th>    <th>0.975]</th>  \n",
       "</tr>\n",
       "<tr>\n",
       "  <th>const</th> <td>  3.99e-08</td> <td> 1.02e-10</td> <td>  389.905</td> <td> 0.000</td> <td> 3.97e-08</td> <td> 4.01e-08</td>\n",
       "</tr>\n",
       "<tr>\n",
       "  <th>x1</th>    <td> 1.397e-05</td> <td> 2.03e-07</td> <td>   68.797</td> <td> 0.000</td> <td> 1.36e-05</td> <td> 1.44e-05</td>\n",
       "</tr>\n",
       "</table>\n",
       "<table class=\"simpletable\">\n",
       "<tr>\n",
       "  <th>Omnibus:</th>       <td>29739.742</td> <th>  Durbin-Watson:     </th>  <td>   0.780</td> \n",
       "</tr>\n",
       "<tr>\n",
       "  <th>Prob(Omnibus):</th>  <td> 0.000</td>   <th>  Jarque-Bera (JB):  </th> <td>884755.569</td>\n",
       "</tr>\n",
       "<tr>\n",
       "  <th>Skew:</th>           <td> 0.868</td>   <th>  Prob(JB):          </th>  <td>    0.00</td> \n",
       "</tr>\n",
       "<tr>\n",
       "  <th>Kurtosis:</th>       <td>17.705</td>   <th>  Cond. No.          </th>  <td>3.22e+03</td> \n",
       "</tr>\n",
       "</table><br/><br/>Notes:<br/>[1] Standard Errors assume that the covariance matrix of the errors is correctly specified.<br/>[2] The condition number is large, 3.22e+03. This might indicate that there are<br/>strong multicollinearity or other numerical problems."
      ],
      "text/plain": [
       "<class 'statsmodels.iolib.summary.Summary'>\n",
       "\"\"\"\n",
       "                            OLS Regression Results                            \n",
       "==============================================================================\n",
       "Dep. Variable:                      y   R-squared:                       0.047\n",
       "Model:                            OLS   Adj. R-squared:                  0.047\n",
       "Method:                 Least Squares   F-statistic:                     4733.\n",
       "Date:                Fri, 07 Oct 2022   Prob (F-statistic):               0.00\n",
       "Time:                        08:50:25   Log-Likelihood:             1.5812e+06\n",
       "No. Observations:               96849   AIC:                        -3.162e+06\n",
       "Df Residuals:                   96847   BIC:                        -3.162e+06\n",
       "Df Model:                           1                                         \n",
       "Covariance Type:            nonrobust                                         \n",
       "==============================================================================\n",
       "                 coef    std err          t      P>|t|      [0.025      0.975]\n",
       "------------------------------------------------------------------------------\n",
       "const        3.99e-08   1.02e-10    389.905      0.000    3.97e-08    4.01e-08\n",
       "x1          1.397e-05   2.03e-07     68.797      0.000    1.36e-05    1.44e-05\n",
       "==============================================================================\n",
       "Omnibus:                    29739.742   Durbin-Watson:                   0.780\n",
       "Prob(Omnibus):                  0.000   Jarque-Bera (JB):           884755.569\n",
       "Skew:                           0.868   Prob(JB):                         0.00\n",
       "Kurtosis:                      17.705   Cond. No.                     3.22e+03\n",
       "==============================================================================\n",
       "\n",
       "Notes:\n",
       "[1] Standard Errors assume that the covariance matrix of the errors is correctly specified.\n",
       "[2] The condition number is large, 3.22e+03. This might indicate that there are\n",
       "strong multicollinearity or other numerical problems.\n",
       "\"\"\""
      ]
     },
     "execution_count": 59,
     "metadata": {},
     "output_type": "execute_result"
    },
    {
     "data": {
      "application/javascript": [
       "\n",
       "            setTimeout(function() {\n",
       "                var nbb_cell_id = 59;\n",
       "                var nbb_unformatted_code = \"results = sm.OLS(Y, X).fit()\\nresults.summary()\";\n",
       "                var nbb_formatted_code = \"results = sm.OLS(Y, X).fit()\\nresults.summary()\";\n",
       "                var nbb_cells = Jupyter.notebook.get_cells();\n",
       "                for (var i = 0; i < nbb_cells.length; ++i) {\n",
       "                    if (nbb_cells[i].input_prompt_number == nbb_cell_id) {\n",
       "                        if (nbb_cells[i].get_text() == nbb_unformatted_code) {\n",
       "                             nbb_cells[i].set_text(nbb_formatted_code);\n",
       "                        }\n",
       "                        break;\n",
       "                    }\n",
       "                }\n",
       "            }, 500);\n",
       "            "
      ],
      "text/plain": [
       "<IPython.core.display.Javascript object>"
      ]
     },
     "metadata": {},
     "output_type": "display_data"
    }
   ],
   "source": [
    "results = sm.OLS(Y, X).fit()\n",
    "results.summary()"
   ]
  },
  {
   "cell_type": "code",
   "execution_count": 60,
   "id": "f639ba2e",
   "metadata": {},
   "outputs": [
    {
     "data": {
      "text/plain": [
       "0.216794833886788"
      ]
     },
     "execution_count": 60,
     "metadata": {},
     "output_type": "execute_result"
    },
    {
     "data": {
      "application/javascript": [
       "\n",
       "            setTimeout(function() {\n",
       "                var nbb_cell_id = 60;\n",
       "                var nbb_unformatted_code = \"## corr between the vol and the spread is given by the square root of the R2:\\nnp.sqrt(0.047)\";\n",
       "                var nbb_formatted_code = \"## corr between the vol and the spread is given by the square root of the R2:\\nnp.sqrt(0.047)\";\n",
       "                var nbb_cells = Jupyter.notebook.get_cells();\n",
       "                for (var i = 0; i < nbb_cells.length; ++i) {\n",
       "                    if (nbb_cells[i].input_prompt_number == nbb_cell_id) {\n",
       "                        if (nbb_cells[i].get_text() == nbb_unformatted_code) {\n",
       "                             nbb_cells[i].set_text(nbb_formatted_code);\n",
       "                        }\n",
       "                        break;\n",
       "                    }\n",
       "                }\n",
       "            }, 500);\n",
       "            "
      ],
      "text/plain": [
       "<IPython.core.display.Javascript object>"
      ]
     },
     "metadata": {},
     "output_type": "display_data"
    }
   ],
   "source": [
    "## corr between the vol and the spread is given by the square root of the R2:\n",
    "np.sqrt(0.047)"
   ]
  },
  {
   "cell_type": "markdown",
   "id": "c6295332",
   "metadata": {},
   "source": [
    "### we can observe that the `volatility` has a significant impact on the `spread`:\n",
    "- **p_value smaller that 1%**\n",
    "- **correlation = 0.22**"
   ]
  },
  {
   "cell_type": "markdown",
   "id": "0ac5ddda",
   "metadata": {},
   "source": [
    "## Analyzing `order book imbalance` feature"
   ]
  },
  {
   "cell_type": "code",
   "execution_count": 61,
   "id": "df60d80d",
   "metadata": {},
   "outputs": [
    {
     "data": {
      "application/javascript": [
       "\n",
       "            setTimeout(function() {\n",
       "                var nbb_cell_id = 61;\n",
       "                var nbb_unformatted_code = \"list_sum_bids_asks = order_book.apply(\\n    lambda row: get_sum_bids_and_asks(row[\\\"bids\\\"], row[\\\"asks\\\"], 15), axis=1\\n)\\nsum_bids = pd.Series([x[0] for x in list_sum_bids_asks])\\nsum_asks = pd.Series([x[1] for x in list_sum_bids_asks])\";\n",
       "                var nbb_formatted_code = \"list_sum_bids_asks = order_book.apply(\\n    lambda row: get_sum_bids_and_asks(row[\\\"bids\\\"], row[\\\"asks\\\"], 15), axis=1\\n)\\nsum_bids = pd.Series([x[0] for x in list_sum_bids_asks])\\nsum_asks = pd.Series([x[1] for x in list_sum_bids_asks])\";\n",
       "                var nbb_cells = Jupyter.notebook.get_cells();\n",
       "                for (var i = 0; i < nbb_cells.length; ++i) {\n",
       "                    if (nbb_cells[i].input_prompt_number == nbb_cell_id) {\n",
       "                        if (nbb_cells[i].get_text() == nbb_unformatted_code) {\n",
       "                             nbb_cells[i].set_text(nbb_formatted_code);\n",
       "                        }\n",
       "                        break;\n",
       "                    }\n",
       "                }\n",
       "            }, 500);\n",
       "            "
      ],
      "text/plain": [
       "<IPython.core.display.Javascript object>"
      ]
     },
     "metadata": {},
     "output_type": "display_data"
    }
   ],
   "source": [
    "list_sum_bids_asks = order_book.apply(\n",
    "    lambda row: get_sum_bids_and_asks(row[\"bids\"], row[\"asks\"], 15), axis=1\n",
    ")\n",
    "sum_bids = pd.Series([x[0] for x in list_sum_bids_asks])\n",
    "sum_asks = pd.Series([x[1] for x in list_sum_bids_asks])"
   ]
  },
  {
   "cell_type": "code",
   "execution_count": 62,
   "id": "4c638734",
   "metadata": {},
   "outputs": [
    {
     "data": {
      "text/plain": [
       "(106099, 128842)"
      ]
     },
     "execution_count": 62,
     "metadata": {},
     "output_type": "execute_result"
    },
    {
     "data": {
      "application/javascript": [
       "\n",
       "            setTimeout(function() {\n",
       "                var nbb_cell_id = 62;\n",
       "                var nbb_unformatted_code = \"list_sum_bids_asks[1]\";\n",
       "                var nbb_formatted_code = \"list_sum_bids_asks[1]\";\n",
       "                var nbb_cells = Jupyter.notebook.get_cells();\n",
       "                for (var i = 0; i < nbb_cells.length; ++i) {\n",
       "                    if (nbb_cells[i].input_prompt_number == nbb_cell_id) {\n",
       "                        if (nbb_cells[i].get_text() == nbb_unformatted_code) {\n",
       "                             nbb_cells[i].set_text(nbb_formatted_code);\n",
       "                        }\n",
       "                        break;\n",
       "                    }\n",
       "                }\n",
       "            }, 500);\n",
       "            "
      ],
      "text/plain": [
       "<IPython.core.display.Javascript object>"
      ]
     },
     "metadata": {},
     "output_type": "display_data"
    }
   ],
   "source": [
    "list_sum_bids_asks[1]"
   ]
  },
  {
   "cell_type": "code",
   "execution_count": 63,
   "id": "be2d98dc",
   "metadata": {},
   "outputs": [
    {
     "data": {
      "application/javascript": [
       "\n",
       "            setTimeout(function() {\n",
       "                var nbb_cell_id = 63;\n",
       "                var nbb_unformatted_code = \"order_imbalance = (sum_bids - sum_asks) / (sum_bids + sum_asks)\";\n",
       "                var nbb_formatted_code = \"order_imbalance = (sum_bids - sum_asks) / (sum_bids + sum_asks)\";\n",
       "                var nbb_cells = Jupyter.notebook.get_cells();\n",
       "                for (var i = 0; i < nbb_cells.length; ++i) {\n",
       "                    if (nbb_cells[i].input_prompt_number == nbb_cell_id) {\n",
       "                        if (nbb_cells[i].get_text() == nbb_unformatted_code) {\n",
       "                             nbb_cells[i].set_text(nbb_formatted_code);\n",
       "                        }\n",
       "                        break;\n",
       "                    }\n",
       "                }\n",
       "            }, 500);\n",
       "            "
      ],
      "text/plain": [
       "<IPython.core.display.Javascript object>"
      ]
     },
     "metadata": {},
     "output_type": "display_data"
    }
   ],
   "source": [
    "order_imbalance = (sum_bids - sum_asks) / (sum_bids + sum_asks)\n"
   ]
  },
  {
   "cell_type": "code",
   "execution_count": 64,
   "id": "b8b50d06",
   "metadata": {},
   "outputs": [
    {
     "data": {
      "image/png": "[encoded data removed]",
      "text/plain": [
       "<Figure size 720x360 with 1 Axes>"
      ]
     },
     "metadata": {
      "needs_background": "light"
     },
     "output_type": "display_data"
    },
    {
     "data": {
      "application/javascript": [
       "\n",
       "            setTimeout(function() {\n",
       "                var nbb_cell_id = 64;\n",
       "                var nbb_unformatted_code = \"plt.figure(figsize=(10, 5))\\nplt.scatter(order_imbalance, order_book[\\\"mid_price_return\\\"].shift(-1))\\n\\nplt.title(\\\"Mid-price returns as a function of order book imbalance\\\", fontsize=16)\\nplt.xlabel(\\\"order book imbalance\\\")\\nplt.ylabel(\\\"Mid price returns\\\")\\n\\nplt.show()\";\n",
       "                var nbb_formatted_code = \"plt.figure(figsize=(10, 5))\\nplt.scatter(order_imbalance, order_book[\\\"mid_price_return\\\"].shift(-1))\\n\\nplt.title(\\\"Mid-price returns as a function of order book imbalance\\\", fontsize=16)\\nplt.xlabel(\\\"order book imbalance\\\")\\nplt.ylabel(\\\"Mid price returns\\\")\\n\\nplt.show()\";\n",
       "                var nbb_cells = Jupyter.notebook.get_cells();\n",
       "                for (var i = 0; i < nbb_cells.length; ++i) {\n",
       "                    if (nbb_cells[i].input_prompt_number == nbb_cell_id) {\n",
       "                        if (nbb_cells[i].get_text() == nbb_unformatted_code) {\n",
       "                             nbb_cells[i].set_text(nbb_formatted_code);\n",
       "                        }\n",
       "                        break;\n",
       "                    }\n",
       "                }\n",
       "            }, 500);\n",
       "            "
      ],
      "text/plain": [
       "<IPython.core.display.Javascript object>"
      ]
     },
     "metadata": {},
     "output_type": "display_data"
    }
   ],
   "source": [
    "plt.figure(figsize=(10, 5))\n",
    "plt.scatter(order_imbalance, order_book[\"mid_price_return\"].shift(-1))\n",
    "\n",
    "plt.title(\"Mid-price returns as a function of order book imbalance\", fontsize=16)\n",
    "plt.xlabel(\"order book imbalance\")\n",
    "plt.ylabel(\"Mid price returns\")\n",
    "\n",
    "plt.show()"
   ]
  },
  {
   "cell_type": "markdown",
   "id": "e48aa53d",
   "metadata": {},
   "source": [
    "### CCL : No specific relations between the order book imbalance and mid-price returns => does not help to predict trends."
   ]
  },
  {
   "cell_type": "markdown",
   "id": "5c06c6f5",
   "metadata": {},
   "source": [
    "## computing `order book pressure` feature"
   ]
  },
  {
   "cell_type": "code",
   "execution_count": 65,
   "id": "87e93177",
   "metadata": {},
   "outputs": [
    {
     "data": {
      "application/javascript": [
       "\n",
       "            setTimeout(function() {\n",
       "                var nbb_cell_id = 65;\n",
       "                var nbb_unformatted_code = \"OBP = sum_bids.rolling(5).sum() / sum_asks.rolling(5).sum()\";\n",
       "                var nbb_formatted_code = \"OBP = sum_bids.rolling(5).sum() / sum_asks.rolling(5).sum()\";\n",
       "                var nbb_cells = Jupyter.notebook.get_cells();\n",
       "                for (var i = 0; i < nbb_cells.length; ++i) {\n",
       "                    if (nbb_cells[i].input_prompt_number == nbb_cell_id) {\n",
       "                        if (nbb_cells[i].get_text() == nbb_unformatted_code) {\n",
       "                             nbb_cells[i].set_text(nbb_formatted_code);\n",
       "                        }\n",
       "                        break;\n",
       "                    }\n",
       "                }\n",
       "            }, 500);\n",
       "            "
      ],
      "text/plain": [
       "<IPython.core.display.Javascript object>"
      ]
     },
     "metadata": {},
     "output_type": "display_data"
    }
   ],
   "source": [
    "OBP = sum_bids.rolling(5).sum() / sum_asks.rolling(5).sum()"
   ]
  },
  {
   "cell_type": "code",
   "execution_count": 66,
   "id": "321487cf",
   "metadata": {},
   "outputs": [
    {
     "data": {
      "image/png": "[encoded data removed]",
      "text/plain": [
       "<Figure size 720x360 with 1 Axes>"
      ]
     },
     "metadata": {
      "needs_background": "light"
     },
     "output_type": "display_data"
    },
    {
     "data": {
      "application/javascript": [
       "\n",
       "            setTimeout(function() {\n",
       "                var nbb_cell_id = 66;\n",
       "                var nbb_unformatted_code = \"plt.figure(figsize=(10, 5))\\nplt.scatter(OBP, order_book[\\\"mid_price_return\\\"].shift(-1))\\n\\nplt.title(\\\"Mid price returns as a function of order book pressure\\\", fontsize=16)\\nplt.xlabel(\\\"order book imbalance\\\")\\nplt.ylabel(\\\"Mid price returns\\\")\\n\\nplt.show()\";\n",
       "                var nbb_formatted_code = \"plt.figure(figsize=(10, 5))\\nplt.scatter(OBP, order_book[\\\"mid_price_return\\\"].shift(-1))\\n\\nplt.title(\\\"Mid price returns as a function of order book pressure\\\", fontsize=16)\\nplt.xlabel(\\\"order book imbalance\\\")\\nplt.ylabel(\\\"Mid price returns\\\")\\n\\nplt.show()\";\n",
       "                var nbb_cells = Jupyter.notebook.get_cells();\n",
       "                for (var i = 0; i < nbb_cells.length; ++i) {\n",
       "                    if (nbb_cells[i].input_prompt_number == nbb_cell_id) {\n",
       "                        if (nbb_cells[i].get_text() == nbb_unformatted_code) {\n",
       "                             nbb_cells[i].set_text(nbb_formatted_code);\n",
       "                        }\n",
       "                        break;\n",
       "                    }\n",
       "                }\n",
       "            }, 500);\n",
       "            "
      ],
      "text/plain": [
       "<IPython.core.display.Javascript object>"
      ]
     },
     "metadata": {},
     "output_type": "display_data"
    }
   ],
   "source": [
    "plt.figure(figsize=(10, 5))\n",
    "plt.scatter(OBP, order_book[\"mid_price_return\"].shift(-1))\n",
    "\n",
    "plt.title(\"Mid price returns as a function of order book pressure\", fontsize=16)\n",
    "plt.xlabel(\"order book imbalance\")\n",
    "plt.ylabel(\"Mid price returns\")\n",
    "\n",
    "plt.show()"
   ]
  },
  {
   "cell_type": "markdown",
   "id": "f0bf14f7",
   "metadata": {},
   "source": [
    "### CCL: No specific relations between the order book pressure and mid-price returns => does not help to predict trends."
   ]
  },
  {
   "cell_type": "markdown",
   "id": "82d0512c",
   "metadata": {},
   "source": [
    "# Construction of a Market-Making strategy"
   ]
  },
  {
   "cell_type": "markdown",
   "id": "8be300e3",
   "metadata": {},
   "source": [
    "As mentioned in the introduction, we'll use `strategy 1` or `strategy 2` to submit orders (bid and ask), depending on the `most recent Event/information` we have from historical data with respect to `the time` we submit quotes:\n",
    "- If the most `recent timestamp` comes from `the order book`, we will be using the `first strategy (strategy 1)`\n",
    "- If the most `recent timestamp` comes from the `trade book`, we will be using the `second strategy (strategy 2)`\n",
    "\n",
    "**We will assume that the strategy looks at the market every `Delta seconds`, and `engage` or `close` a position every `Delta seconds`:**\n",
    "- So, once we submit bid and ask orders, we'll wait for Delta second for these orders to be filled. \n",
    "- If after Delta second only one order is filled (or any of them), we close the position and compute the resulting inventories.\n",
    "- If after Delta second both orders have been filled, we compute the resulting spread and update our inventories accordingly.\n",
    "\n",
    "**We will assume that we always trade a fixed quantity of `size = 1` of the underlying crypto.**"
   ]
  },
  {
   "cell_type": "markdown",
   "id": "b0ff72cf",
   "metadata": {},
   "source": [
    "### For convenience, any position will be under the form of a python `dictionary`\n",
    "\n",
    "```(python)\n",
    "position = {\n",
    "    \"current_position\": False,\n",
    "    \"bid\": None,\n",
    "    \"ask\": None,\n",
    "    \"bid_touched\": True,\n",
    "    \"ask_touched\": True,\n",
    "    \"time\": \"2020-07-18 23:58:25.038000\",\n",
    "    \"usd_inventory\": 100,\n",
    "    \"crypto_inventory\": 100,\n",
    "    }\n",
    "```\n",
    "- The `time` variable represents the submission time of the quotes.\n",
    "- `bid` and `ask` are floats, representing the pair orders.\n",
    "- `bid_touched` or `ask_touched` are boolean variables, representing the state of an order, if it has been filled or not.\n",
    "They are initialized to True.\n",
    "#### Let's take the following dictionary as an initial position:"
   ]
  },
  {
   "cell_type": "code",
   "execution_count": 67,
   "id": "a8f90543",
   "metadata": {},
   "outputs": [
    {
     "data": {
      "application/javascript": [
       "\n",
       "            setTimeout(function() {\n",
       "                var nbb_cell_id = 67;\n",
       "                var nbb_unformatted_code = \"position = {\\n    \\\"current_position\\\": False,\\n    \\\"bid\\\": None,\\n    \\\"ask\\\": None,\\n    \\\"bid_touched\\\": True,\\n    \\\"ask_touched\\\": True,\\n    \\\"time\\\": \\\"2020-07-18 23:58:25.038000\\\",\\n    \\\"usd_inventory\\\": 100,\\n    \\\"crypto_inventory\\\": 100,\\n}\";\n",
       "                var nbb_formatted_code = \"position = {\\n    \\\"current_position\\\": False,\\n    \\\"bid\\\": None,\\n    \\\"ask\\\": None,\\n    \\\"bid_touched\\\": True,\\n    \\\"ask_touched\\\": True,\\n    \\\"time\\\": \\\"2020-07-18 23:58:25.038000\\\",\\n    \\\"usd_inventory\\\": 100,\\n    \\\"crypto_inventory\\\": 100,\\n}\";\n",
       "                var nbb_cells = Jupyter.notebook.get_cells();\n",
       "                for (var i = 0; i < nbb_cells.length; ++i) {\n",
       "                    if (nbb_cells[i].input_prompt_number == nbb_cell_id) {\n",
       "                        if (nbb_cells[i].get_text() == nbb_unformatted_code) {\n",
       "                             nbb_cells[i].set_text(nbb_formatted_code);\n",
       "                        }\n",
       "                        break;\n",
       "                    }\n",
       "                }\n",
       "            }, 500);\n",
       "            "
      ],
      "text/plain": [
       "<IPython.core.display.Javascript object>"
      ]
     },
     "metadata": {},
     "output_type": "display_data"
    }
   ],
   "source": [
    "position = {\n",
    "    \"current_position\": False,\n",
    "    \"bid\": None,\n",
    "    \"ask\": None,\n",
    "    \"bid_touched\": True,\n",
    "    \"ask_touched\": True,\n",
    "    \"time\": \"2020-07-18 23:58:25.038000\",\n",
    "    \"usd_inventory\": 100,\n",
    "    \"crypto_inventory\": 100,\n",
    "}"
   ]
  },
  {
   "cell_type": "markdown",
   "id": "87c2f53b",
   "metadata": {},
   "source": [
    "### The following 2 functions retrieve the data associated with the last event before fixed variable `time`:\n",
    "- **getting information about the `last trade` before fixed time variable (return timestamp and last price):**\n",
    "```(python)\n",
    "get_last_trade(time: str, trades: pd.DataFrame) -> dict\n",
    "```\n",
    "\n",
    "- **getting information about the last (closest in the past) `order book` (return timestamp and last best bid and ask):**\n",
    "```(python)\n",
    "get_last_bid_ask(time: str, orderbook: pd.DataFrame) -> dict\n",
    "```\n",
    "- **Concerning `the last trade`, if several trades occurred at the same `timestamp`, we took `the mean price` of these trades. This information is available in the `trades_groupby_timestamp` data frame**"
   ]
  },
  {
   "cell_type": "code",
   "execution_count": 68,
   "id": "711489e9",
   "metadata": {},
   "outputs": [
    {
     "data": {
      "application/javascript": [
       "\n",
       "            setTimeout(function() {\n",
       "                var nbb_cell_id = 68;\n",
       "                var nbb_unformatted_code = \"def get_last_trade(time: str, trades_groupby_timestamp: pd.DataFrame) -> dict:\\n\\n    last_trade_timestamp = trades_groupby_timestamp.index[\\n        trades_groupby_timestamp.index <= time\\n    ][-1]\\n    last_price = trades_groupby_timestamp.loc[last_trade_timestamp].mean_price\\n\\n    return {\\n        \\\"type\\\": \\\"trade\\\",\\n        \\\"timestamp\\\": last_trade_timestamp,\\n        \\\"last_price\\\": last_price,\\n    }\";\n",
       "                var nbb_formatted_code = \"def get_last_trade(time: str, trades_groupby_timestamp: pd.DataFrame) -> dict:\\n\\n    last_trade_timestamp = trades_groupby_timestamp.index[\\n        trades_groupby_timestamp.index <= time\\n    ][-1]\\n    last_price = trades_groupby_timestamp.loc[last_trade_timestamp].mean_price\\n\\n    return {\\n        \\\"type\\\": \\\"trade\\\",\\n        \\\"timestamp\\\": last_trade_timestamp,\\n        \\\"last_price\\\": last_price,\\n    }\";\n",
       "                var nbb_cells = Jupyter.notebook.get_cells();\n",
       "                for (var i = 0; i < nbb_cells.length; ++i) {\n",
       "                    if (nbb_cells[i].input_prompt_number == nbb_cell_id) {\n",
       "                        if (nbb_cells[i].get_text() == nbb_unformatted_code) {\n",
       "                             nbb_cells[i].set_text(nbb_formatted_code);\n",
       "                        }\n",
       "                        break;\n",
       "                    }\n",
       "                }\n",
       "            }, 500);\n",
       "            "
      ],
      "text/plain": [
       "<IPython.core.display.Javascript object>"
      ]
     },
     "metadata": {},
     "output_type": "display_data"
    }
   ],
   "source": [
    "def get_last_trade(time: str, trades_groupby_timestamp: pd.DataFrame) -> dict:\n",
    "\n",
    "    last_trade_timestamp = trades_groupby_timestamp.index[\n",
    "        trades_groupby_timestamp.index <= time\n",
    "    ][-1]\n",
    "    last_price = trades_groupby_timestamp.loc[last_trade_timestamp].mean_price\n",
    "\n",
    "    return {\n",
    "        \"type\": \"trade\",\n",
    "        \"timestamp\": last_trade_timestamp,\n",
    "        \"last_price\": last_price,\n",
    "    }"
   ]
  },
  {
   "cell_type": "code",
   "execution_count": 69,
   "id": "e2fa23a7",
   "metadata": {},
   "outputs": [
    {
     "data": {
      "text/plain": [
       "{'type': 'trade',\n",
       " 'timestamp': Timestamp('2020-07-17 00:01:10.647000'),\n",
       " 'last_price': 2.643e-05}"
      ]
     },
     "execution_count": 69,
     "metadata": {},
     "output_type": "execute_result"
    },
    {
     "data": {
      "application/javascript": [
       "\n",
       "            setTimeout(function() {\n",
       "                var nbb_cell_id = 69;\n",
       "                var nbb_unformatted_code = \"## test\\ntime = \\\"2020-07-17 00:01:19.259000\\\"\\nget_last_trade(time, trades_groupby_timestamp)\";\n",
       "                var nbb_formatted_code = \"## test\\ntime = \\\"2020-07-17 00:01:19.259000\\\"\\nget_last_trade(time, trades_groupby_timestamp)\";\n",
       "                var nbb_cells = Jupyter.notebook.get_cells();\n",
       "                for (var i = 0; i < nbb_cells.length; ++i) {\n",
       "                    if (nbb_cells[i].input_prompt_number == nbb_cell_id) {\n",
       "                        if (nbb_cells[i].get_text() == nbb_unformatted_code) {\n",
       "                             nbb_cells[i].set_text(nbb_formatted_code);\n",
       "                        }\n",
       "                        break;\n",
       "                    }\n",
       "                }\n",
       "            }, 500);\n",
       "            "
      ],
      "text/plain": [
       "<IPython.core.display.Javascript object>"
      ]
     },
     "metadata": {},
     "output_type": "display_data"
    }
   ],
   "source": [
    "## test\n",
    "time = \"2020-07-17 00:01:19.259000\"\n",
    "get_last_trade(time, trades_groupby_timestamp)"
   ]
  },
  {
   "cell_type": "code",
   "execution_count": 70,
   "id": "06299980",
   "metadata": {},
   "outputs": [
    {
     "data": {
      "application/javascript": [
       "\n",
       "            setTimeout(function() {\n",
       "                var nbb_cell_id = 70;\n",
       "                var nbb_unformatted_code = \"def get_last_bid_ask(time: str, orderbook: pd.DataFrame) -> dict:\\n\\n    last_bid_ask_timestamp = orderbook.index[orderbook.index <= time][-1]\\n    last_orderbook = orderbook.loc[last_bid_ask_timestamp]\\n    bid, ask = get_best_bid_ask(last_orderbook.bids, last_orderbook.asks,)\\n\\n    return {\\n        \\\"type\\\": \\\"bid_ask\\\",\\n        \\\"timestamp\\\": last_bid_ask_timestamp,\\n        \\\"bid\\\": bid,\\n        \\\"ask\\\": ask,\\n    }\";\n",
       "                var nbb_formatted_code = \"def get_last_bid_ask(time: str, orderbook: pd.DataFrame) -> dict:\\n\\n    last_bid_ask_timestamp = orderbook.index[orderbook.index <= time][-1]\\n    last_orderbook = orderbook.loc[last_bid_ask_timestamp]\\n    bid, ask = get_best_bid_ask(last_orderbook.bids, last_orderbook.asks,)\\n\\n    return {\\n        \\\"type\\\": \\\"bid_ask\\\",\\n        \\\"timestamp\\\": last_bid_ask_timestamp,\\n        \\\"bid\\\": bid,\\n        \\\"ask\\\": ask,\\n    }\";\n",
       "                var nbb_cells = Jupyter.notebook.get_cells();\n",
       "                for (var i = 0; i < nbb_cells.length; ++i) {\n",
       "                    if (nbb_cells[i].input_prompt_number == nbb_cell_id) {\n",
       "                        if (nbb_cells[i].get_text() == nbb_unformatted_code) {\n",
       "                             nbb_cells[i].set_text(nbb_formatted_code);\n",
       "                        }\n",
       "                        break;\n",
       "                    }\n",
       "                }\n",
       "            }, 500);\n",
       "            "
      ],
      "text/plain": [
       "<IPython.core.display.Javascript object>"
      ]
     },
     "metadata": {},
     "output_type": "display_data"
    }
   ],
   "source": [
    "def get_last_bid_ask(time: str, orderbook: pd.DataFrame) -> dict:\n",
    "\n",
    "    last_bid_ask_timestamp = orderbook.index[orderbook.index <= time][-1]\n",
    "    last_orderbook = orderbook.loc[last_bid_ask_timestamp]\n",
    "    bid, ask = get_best_bid_ask(last_orderbook.bids, last_orderbook.asks,)\n",
    "\n",
    "    return {\n",
    "        \"type\": \"bid_ask\",\n",
    "        \"timestamp\": last_bid_ask_timestamp,\n",
    "        \"bid\": bid,\n",
    "        \"ask\": ask,\n",
    "    }"
   ]
  },
  {
   "cell_type": "code",
   "execution_count": 71,
   "id": "de683113",
   "metadata": {},
   "outputs": [
    {
     "data": {
      "text/plain": [
       "{'type': 'bid_ask',\n",
       " 'timestamp': Timestamp('2020-07-17 00:01:19.259000'),\n",
       " 'bid': 2.638e-05,\n",
       " 'ask': 2.643e-05}"
      ]
     },
     "execution_count": 71,
     "metadata": {},
     "output_type": "execute_result"
    },
    {
     "data": {
      "application/javascript": [
       "\n",
       "            setTimeout(function() {\n",
       "                var nbb_cell_id = 71;\n",
       "                var nbb_unformatted_code = \"get_last_bid_ask(time, order_book)\";\n",
       "                var nbb_formatted_code = \"get_last_bid_ask(time, order_book)\";\n",
       "                var nbb_cells = Jupyter.notebook.get_cells();\n",
       "                for (var i = 0; i < nbb_cells.length; ++i) {\n",
       "                    if (nbb_cells[i].input_prompt_number == nbb_cell_id) {\n",
       "                        if (nbb_cells[i].get_text() == nbb_unformatted_code) {\n",
       "                             nbb_cells[i].set_text(nbb_formatted_code);\n",
       "                        }\n",
       "                        break;\n",
       "                    }\n",
       "                }\n",
       "            }, 500);\n",
       "            "
      ],
      "text/plain": [
       "<IPython.core.display.Javascript object>"
      ]
     },
     "metadata": {},
     "output_type": "display_data"
    }
   ],
   "source": [
    "get_last_bid_ask(time, order_book)"
   ]
  },
  {
   "cell_type": "markdown",
   "id": "caa4bbde",
   "metadata": {},
   "source": [
    "## Function `get_last_event` that gets the closest event (a trade, or an order book) \n",
    "## in the past before fixed variable `time`\n",
    "\n",
    "- **It returns a dict associated with the last event**"
   ]
  },
  {
   "cell_type": "code",
   "execution_count": 72,
   "id": "c587a96a",
   "metadata": {},
   "outputs": [
    {
     "data": {
      "application/javascript": [
       "\n",
       "            setTimeout(function() {\n",
       "                var nbb_cell_id = 72;\n",
       "                var nbb_unformatted_code = \"def get_last_event(\\n    time: str, orderbook: pd.DataFrame, trades_groupby_timestamp: pd.DataFrame\\n) -> dict:\\n\\n    last_bid_ask = get_last_bid_ask(time, orderbook)\\n    last_trade = get_last_trade(time, trades_groupby_timestamp)\\n\\n    if last_bid_ask[\\\"timestamp\\\"] >= last_trade[\\\"timestamp\\\"]:\\n\\n        return last_bid_ask\\n\\n    else:\\n\\n        return last_trade\";\n",
       "                var nbb_formatted_code = \"def get_last_event(\\n    time: str, orderbook: pd.DataFrame, trades_groupby_timestamp: pd.DataFrame\\n) -> dict:\\n\\n    last_bid_ask = get_last_bid_ask(time, orderbook)\\n    last_trade = get_last_trade(time, trades_groupby_timestamp)\\n\\n    if last_bid_ask[\\\"timestamp\\\"] >= last_trade[\\\"timestamp\\\"]:\\n\\n        return last_bid_ask\\n\\n    else:\\n\\n        return last_trade\";\n",
       "                var nbb_cells = Jupyter.notebook.get_cells();\n",
       "                for (var i = 0; i < nbb_cells.length; ++i) {\n",
       "                    if (nbb_cells[i].input_prompt_number == nbb_cell_id) {\n",
       "                        if (nbb_cells[i].get_text() == nbb_unformatted_code) {\n",
       "                             nbb_cells[i].set_text(nbb_formatted_code);\n",
       "                        }\n",
       "                        break;\n",
       "                    }\n",
       "                }\n",
       "            }, 500);\n",
       "            "
      ],
      "text/plain": [
       "<IPython.core.display.Javascript object>"
      ]
     },
     "metadata": {},
     "output_type": "display_data"
    }
   ],
   "source": [
    "def get_last_event(\n",
    "    time: str, orderbook: pd.DataFrame, trades_groupby_timestamp: pd.DataFrame\n",
    ") -> dict:\n",
    "\n",
    "    last_bid_ask = get_last_bid_ask(time, orderbook)\n",
    "    last_trade = get_last_trade(time, trades_groupby_timestamp)\n",
    "\n",
    "    if last_bid_ask[\"timestamp\"] >= last_trade[\"timestamp\"]:\n",
    "\n",
    "        return last_bid_ask\n",
    "\n",
    "    else:\n",
    "\n",
    "        return last_trade"
   ]
  },
  {
   "cell_type": "code",
   "execution_count": 73,
   "id": "8f7f1355",
   "metadata": {},
   "outputs": [
    {
     "data": {
      "text/plain": [
       "{'type': 'bid_ask',\n",
       " 'timestamp': Timestamp('2020-07-30 23:58:25.328000'),\n",
       " 'bid': 2.703e-05,\n",
       " 'ask': 2.709e-05}"
      ]
     },
     "execution_count": 73,
     "metadata": {},
     "output_type": "execute_result"
    },
    {
     "data": {
      "application/javascript": [
       "\n",
       "            setTimeout(function() {\n",
       "                var nbb_cell_id = 73;\n",
       "                var nbb_unformatted_code = \"get_last_event(\\\"2020-07-30 23:58:25.328000\\\", order_book, trades_groupby_timestamp)\";\n",
       "                var nbb_formatted_code = \"get_last_event(\\\"2020-07-30 23:58:25.328000\\\", order_book, trades_groupby_timestamp)\";\n",
       "                var nbb_cells = Jupyter.notebook.get_cells();\n",
       "                for (var i = 0; i < nbb_cells.length; ++i) {\n",
       "                    if (nbb_cells[i].input_prompt_number == nbb_cell_id) {\n",
       "                        if (nbb_cells[i].get_text() == nbb_unformatted_code) {\n",
       "                             nbb_cells[i].set_text(nbb_formatted_code);\n",
       "                        }\n",
       "                        break;\n",
       "                    }\n",
       "                }\n",
       "            }, 500);\n",
       "            "
      ],
      "text/plain": [
       "<IPython.core.display.Javascript object>"
      ]
     },
     "metadata": {},
     "output_type": "display_data"
    }
   ],
   "source": [
    "get_last_event(\"2020-07-30 23:58:25.328000\", order_book, trades_groupby_timestamp)"
   ]
  },
  {
   "cell_type": "markdown",
   "id": "119cca44",
   "metadata": {},
   "source": [
    "## To avoid `look-ahead bias`:\n",
    "## we need functions that extract the past information before a fixed date (variable `time`)\n",
    "\n",
    "\n",
    "- **We need `past spreads and past returns` before variable `time`**\n",
    "- **`n: int`, will represent the `maximum lag time` to look into the past data before the fixed date (variable`time`)**"
   ]
  },
  {
   "cell_type": "code",
   "execution_count": 74,
   "id": "afb2f235",
   "metadata": {},
   "outputs": [
    {
     "data": {
      "application/javascript": [
       "\n",
       "            setTimeout(function() {\n",
       "                var nbb_cell_id = 74;\n",
       "                var nbb_unformatted_code = \"def get_previous_mid_price_returns(\\n    time: str, n: int, orderbook: pd.DataFrame\\n) -> pd.Series:\\n\\n    return orderbook[orderbook.index <= time].tail(n).mid_price_return\";\n",
       "                var nbb_formatted_code = \"def get_previous_mid_price_returns(\\n    time: str, n: int, orderbook: pd.DataFrame\\n) -> pd.Series:\\n\\n    return orderbook[orderbook.index <= time].tail(n).mid_price_return\";\n",
       "                var nbb_cells = Jupyter.notebook.get_cells();\n",
       "                for (var i = 0; i < nbb_cells.length; ++i) {\n",
       "                    if (nbb_cells[i].input_prompt_number == nbb_cell_id) {\n",
       "                        if (nbb_cells[i].get_text() == nbb_unformatted_code) {\n",
       "                             nbb_cells[i].set_text(nbb_formatted_code);\n",
       "                        }\n",
       "                        break;\n",
       "                    }\n",
       "                }\n",
       "            }, 500);\n",
       "            "
      ],
      "text/plain": [
       "<IPython.core.display.Javascript object>"
      ]
     },
     "metadata": {},
     "output_type": "display_data"
    }
   ],
   "source": [
    "def get_previous_mid_price_returns(\n",
    "    time: str, n: int, orderbook: pd.DataFrame\n",
    ") -> pd.Series:\n",
    "\n",
    "    return orderbook[orderbook.index <= time].tail(n).mid_price_return"
   ]
  },
  {
   "cell_type": "code",
   "execution_count": 75,
   "id": "79789a57",
   "metadata": {},
   "outputs": [
    {
     "data": {
      "application/javascript": [
       "\n",
       "            setTimeout(function() {\n",
       "                var nbb_cell_id = 75;\n",
       "                var nbb_unformatted_code = \"def get_previous_spreads(time: str, n: int, orderbook: pd.DataFrame) -> pd.Series:\\n\\n    return orderbook[orderbook.index <= time].tail(n).spread\";\n",
       "                var nbb_formatted_code = \"def get_previous_spreads(time: str, n: int, orderbook: pd.DataFrame) -> pd.Series:\\n\\n    return orderbook[orderbook.index <= time].tail(n).spread\";\n",
       "                var nbb_cells = Jupyter.notebook.get_cells();\n",
       "                for (var i = 0; i < nbb_cells.length; ++i) {\n",
       "                    if (nbb_cells[i].input_prompt_number == nbb_cell_id) {\n",
       "                        if (nbb_cells[i].get_text() == nbb_unformatted_code) {\n",
       "                             nbb_cells[i].set_text(nbb_formatted_code);\n",
       "                        }\n",
       "                        break;\n",
       "                    }\n",
       "                }\n",
       "            }, 500);\n",
       "            "
      ],
      "text/plain": [
       "<IPython.core.display.Javascript object>"
      ]
     },
     "metadata": {},
     "output_type": "display_data"
    }
   ],
   "source": [
    "def get_previous_spreads(time: str, n: int, orderbook: pd.DataFrame) -> pd.Series:\n",
    "\n",
    "    return orderbook[orderbook.index <= time].tail(n).spread"
   ]
  },
  {
   "cell_type": "markdown",
   "id": "9663b089",
   "metadata": {},
   "source": [
    "### In the following, let's define a function that `submits quotes`:\n",
    "### It will take as inputs the `time submission`, the `order book` and `trades groupby timestamp data frame`\n",
    "### It will submit quotes according to the last event retrieved in the past data:\n",
    "- **if the closest event is an order book, we'll set quotes as follows:**\n",
    "$$\\big(p_{t-1}^{\\text{best bid}} - \\mu, \\, p_{t-1}^{\\text{best ask}} + \\mu \\big),$$\n",
    "where $\\mu = \\sigma\\big( \\text{mid_price_return} \\big) \\sigma\\big(spread  \\big)$.\n",
    "- **otherwise, if it is a trade, we'll set quotes:**\n",
    "$$\\big(p_{t-1} - \\delta/2, \\,p_{t-1} + \\delta/2 \\big),$$ \n",
    "with $\\delta = \\text{mean}\\big(spread \\big)$.\n",
    "\n"
   ]
  },
  {
   "cell_type": "code",
   "execution_count": 76,
   "id": "0d9e79e8",
   "metadata": {},
   "outputs": [
    {
     "data": {
      "application/javascript": [
       "\n",
       "            setTimeout(function() {\n",
       "                var nbb_cell_id = 76;\n",
       "                var nbb_unformatted_code = \"def submit_bid_ask_quotes(\\n    time: str, orderbook: pd.DataFrame, trades_groupby_timestamp: pd.DataFrame, n: int\\n) -> tuple:\\n\\n    last_event = get_last_event(time, orderbook, trades_groupby_timestamp)\\n    last_spreads = get_previous_spreads(time, n, orderbook)\\n\\n    if last_event[\\\"type\\\"] == \\\"bid_ask\\\":\\n\\n        last_returns = get_previous_mid_price_returns(time, n, orderbook)\\n        sigma_returns = last_returns.std()\\n        sigma_spreads = last_spreads.std()\\n\\n        return (\\n            last_event[\\\"bid\\\"] - sigma_returns * sigma_spreads,\\n            last_event[\\\"ask\\\"] + sigma_returns * sigma_spreads,\\n        )\\n\\n    elif last_event[\\\"type\\\"] == \\\"trade\\\":\\n\\n        mean_spreads = last_spreads.mean()\\n        last_price = last_event[\\\"last_price\\\"]\\n\\n        return (last_price - mean_spreads / 2, last_price + mean_spreads / 2)\";\n",
       "                var nbb_formatted_code = \"def submit_bid_ask_quotes(\\n    time: str, orderbook: pd.DataFrame, trades_groupby_timestamp: pd.DataFrame, n: int\\n) -> tuple:\\n\\n    last_event = get_last_event(time, orderbook, trades_groupby_timestamp)\\n    last_spreads = get_previous_spreads(time, n, orderbook)\\n\\n    if last_event[\\\"type\\\"] == \\\"bid_ask\\\":\\n\\n        last_returns = get_previous_mid_price_returns(time, n, orderbook)\\n        sigma_returns = last_returns.std()\\n        sigma_spreads = last_spreads.std()\\n\\n        return (\\n            last_event[\\\"bid\\\"] - sigma_returns * sigma_spreads,\\n            last_event[\\\"ask\\\"] + sigma_returns * sigma_spreads,\\n        )\\n\\n    elif last_event[\\\"type\\\"] == \\\"trade\\\":\\n\\n        mean_spreads = last_spreads.mean()\\n        last_price = last_event[\\\"last_price\\\"]\\n\\n        return (last_price - mean_spreads / 2, last_price + mean_spreads / 2)\";\n",
       "                var nbb_cells = Jupyter.notebook.get_cells();\n",
       "                for (var i = 0; i < nbb_cells.length; ++i) {\n",
       "                    if (nbb_cells[i].input_prompt_number == nbb_cell_id) {\n",
       "                        if (nbb_cells[i].get_text() == nbb_unformatted_code) {\n",
       "                             nbb_cells[i].set_text(nbb_formatted_code);\n",
       "                        }\n",
       "                        break;\n",
       "                    }\n",
       "                }\n",
       "            }, 500);\n",
       "            "
      ],
      "text/plain": [
       "<IPython.core.display.Javascript object>"
      ]
     },
     "metadata": {},
     "output_type": "display_data"
    }
   ],
   "source": [
    "def submit_bid_ask_quotes(\n",
    "    time: str, orderbook: pd.DataFrame, trades_groupby_timestamp: pd.DataFrame, n: int\n",
    ") -> tuple:\n",
    "\n",
    "    last_event = get_last_event(time, orderbook, trades_groupby_timestamp)\n",
    "    last_spreads = get_previous_spreads(time, n, orderbook)\n",
    "\n",
    "    if last_event[\"type\"] == \"bid_ask\":\n",
    "\n",
    "        last_returns = get_previous_mid_price_returns(time, n, orderbook)\n",
    "        sigma_returns = last_returns.std()\n",
    "        sigma_spreads = last_spreads.std()\n",
    "\n",
    "        return (\n",
    "            last_event[\"bid\"] - sigma_returns * sigma_spreads,\n",
    "            last_event[\"ask\"] + sigma_returns * sigma_spreads,\n",
    "        )\n",
    "\n",
    "    elif last_event[\"type\"] == \"trade\":\n",
    "\n",
    "        mean_spreads = last_spreads.mean()\n",
    "        last_price = last_event[\"last_price\"]\n",
    "\n",
    "        return (last_price - mean_spreads / 2, last_price + mean_spreads / 2)"
   ]
  },
  {
   "cell_type": "code",
   "execution_count": 77,
   "id": "d1cd1325",
   "metadata": {},
   "outputs": [
    {
     "data": {
      "text/plain": [
       "(2.6379996470189325e-05, 2.6430003529810676e-05)"
      ]
     },
     "execution_count": 77,
     "metadata": {},
     "output_type": "execute_result"
    },
    {
     "data": {
      "application/javascript": [
       "\n",
       "            setTimeout(function() {\n",
       "                var nbb_cell_id = 77;\n",
       "                var nbb_unformatted_code = \"submit_bid_ask_quotes(time, order_book, trades_groupby_timestamp, 10)\";\n",
       "                var nbb_formatted_code = \"submit_bid_ask_quotes(time, order_book, trades_groupby_timestamp, 10)\";\n",
       "                var nbb_cells = Jupyter.notebook.get_cells();\n",
       "                for (var i = 0; i < nbb_cells.length; ++i) {\n",
       "                    if (nbb_cells[i].input_prompt_number == nbb_cell_id) {\n",
       "                        if (nbb_cells[i].get_text() == nbb_unformatted_code) {\n",
       "                             nbb_cells[i].set_text(nbb_formatted_code);\n",
       "                        }\n",
       "                        break;\n",
       "                    }\n",
       "                }\n",
       "            }, 500);\n",
       "            "
      ],
      "text/plain": [
       "<IPython.core.display.Javascript object>"
      ]
     },
     "metadata": {},
     "output_type": "display_data"
    }
   ],
   "source": [
    "submit_bid_ask_quotes(time, order_book, trades_groupby_timestamp, 10)"
   ]
  },
  {
   "cell_type": "markdown",
   "id": "c5d7f105",
   "metadata": {},
   "source": [
    "## Function to update the (current) `time` of the position (looking at the market, `+Delta` seconds later) \n",
    "## It checks whether a `bid` or an `ask` has been filled during the next `Delta` seconds,\n",
    "## since the variable `position['time']`:\n",
    "- **It will update the values of dictionary position associated with the keys `'time', 'bid_touched', and 'ask_touched'`.**.\n",
    "- **If a `bid` had been filled in the next `Delta seconds` (since the variable `position[time]`), the value associated with the key `'bid_touched'` will be set to `true`.**\n",
    "- **If an `ask` had been filled, the value associated with the key `'ask_touched'` will be set to true.**\n",
    "\n"
   ]
  },
  {
   "cell_type": "code",
   "execution_count": 78,
   "id": "dcf8adc0",
   "metadata": {},
   "outputs": [
    {
     "data": {
      "application/javascript": [
       "\n",
       "            setTimeout(function() {\n",
       "                var nbb_cell_id = 78;\n",
       "                var nbb_unformatted_code = \"def check_for_filled_orders_in_next_delta_seconds(\\n    position: dict, trades: pd.DataFrame, Delta: float\\n) -> dict:\\n\\n    if position[\\\"current_position\\\"] == False:\\n\\n        return position\\n\\n    else:\\n\\n        datetime_submission = datetime.strptime(\\n            position[\\\"time\\\"], \\\"%Y-%m-%d %H:%M:%S.%f\\\"\\n        )\\n        Delta_time = timedelta(seconds=Delta)\\n        position[\\\"time\\\"] = str(datetime_submission + Delta_time)\\n\\n        next_trades = trades.loc[\\n            (datetime_submission < trades.index)\\n            & (trades.index <= str(datetime_submission + Delta_time))\\n        ]\\n        if len(next_trades) == 0:\\n\\n            return position\\n\\n        else:\\n\\n            buys = next_trades[next_trades.side == \\\"buy\\\"].price\\n            sells = next_trades[next_trades.side == \\\"sell\\\"].price\\n\\n            if len(buys) != 0:\\n                # if True:\\n\\n                if position[\\\"bid\\\"] in buys.values:\\n                    # if True:\\n\\n                    position[\\\"bid_touched\\\"] = True\\n\\n            if len(sells) != 0:\\n                # if True:\\n\\n                if position[\\\"ask\\\"] in sells.values:\\n                    # if True:\\n\\n                    position[\\\"ask_touched\\\"] = True\\n\\n    return position\";\n",
       "                var nbb_formatted_code = \"def check_for_filled_orders_in_next_delta_seconds(\\n    position: dict, trades: pd.DataFrame, Delta: float\\n) -> dict:\\n\\n    if position[\\\"current_position\\\"] == False:\\n\\n        return position\\n\\n    else:\\n\\n        datetime_submission = datetime.strptime(\\n            position[\\\"time\\\"], \\\"%Y-%m-%d %H:%M:%S.%f\\\"\\n        )\\n        Delta_time = timedelta(seconds=Delta)\\n        position[\\\"time\\\"] = str(datetime_submission + Delta_time)\\n\\n        next_trades = trades.loc[\\n            (datetime_submission < trades.index)\\n            & (trades.index <= str(datetime_submission + Delta_time))\\n        ]\\n        if len(next_trades) == 0:\\n\\n            return position\\n\\n        else:\\n\\n            buys = next_trades[next_trades.side == \\\"buy\\\"].price\\n            sells = next_trades[next_trades.side == \\\"sell\\\"].price\\n\\n            if len(buys) != 0:\\n                # if True:\\n\\n                if position[\\\"bid\\\"] in buys.values:\\n                    # if True:\\n\\n                    position[\\\"bid_touched\\\"] = True\\n\\n            if len(sells) != 0:\\n                # if True:\\n\\n                if position[\\\"ask\\\"] in sells.values:\\n                    # if True:\\n\\n                    position[\\\"ask_touched\\\"] = True\\n\\n    return position\";\n",
       "                var nbb_cells = Jupyter.notebook.get_cells();\n",
       "                for (var i = 0; i < nbb_cells.length; ++i) {\n",
       "                    if (nbb_cells[i].input_prompt_number == nbb_cell_id) {\n",
       "                        if (nbb_cells[i].get_text() == nbb_unformatted_code) {\n",
       "                             nbb_cells[i].set_text(nbb_formatted_code);\n",
       "                        }\n",
       "                        break;\n",
       "                    }\n",
       "                }\n",
       "            }, 500);\n",
       "            "
      ],
      "text/plain": [
       "<IPython.core.display.Javascript object>"
      ]
     },
     "metadata": {},
     "output_type": "display_data"
    }
   ],
   "source": [
    "def check_for_filled_orders_in_next_delta_seconds(\n",
    "    position: dict, trades: pd.DataFrame, Delta: float\n",
    ") -> dict:\n",
    "\n",
    "    if position[\"current_position\"] == False:\n",
    "\n",
    "        return position\n",
    "\n",
    "    else:\n",
    "\n",
    "        datetime_submission = datetime.strptime(\n",
    "            position[\"time\"], \"%Y-%m-%d %H:%M:%S.%f\"\n",
    "        )\n",
    "        Delta_time = timedelta(seconds=Delta)\n",
    "        position[\"time\"] = str(datetime_submission + Delta_time)\n",
    "\n",
    "        next_trades = trades.loc[\n",
    "            (datetime_submission < trades.index)\n",
    "            & (trades.index <= str(datetime_submission + Delta_time))\n",
    "        ]\n",
    "        if len(next_trades) == 0:\n",
    "\n",
    "            return position\n",
    "\n",
    "        else:\n",
    "\n",
    "            buys = next_trades[next_trades.side == \"buy\"].price\n",
    "            sells = next_trades[next_trades.side == \"sell\"].price\n",
    "\n",
    "            if len(buys) != 0:\n",
    "                # if True:\n",
    "\n",
    "                if position[\"bid\"] in buys.values:\n",
    "                    # if True:\n",
    "\n",
    "                    position[\"bid_touched\"] = True\n",
    "\n",
    "            if len(sells) != 0:\n",
    "                # if True:\n",
    "\n",
    "                if position[\"ask\"] in sells.values:\n",
    "                    # if True:\n",
    "\n",
    "                    position[\"ask_touched\"] = True\n",
    "\n",
    "    return position"
   ]
  },
  {
   "cell_type": "code",
   "execution_count": 79,
   "id": "822cc1c7",
   "metadata": {},
   "outputs": [
    {
     "data": {
      "text/plain": [
       "{'current_position': False,\n",
       " 'bid': None,\n",
       " 'ask': None,\n",
       " 'bid_touched': True,\n",
       " 'ask_touched': True,\n",
       " 'time': '2020-07-18 23:58:25.038000',\n",
       " 'usd_inventory': 100,\n",
       " 'crypto_inventory': 100}"
      ]
     },
     "execution_count": 79,
     "metadata": {},
     "output_type": "execute_result"
    },
    {
     "data": {
      "application/javascript": [
       "\n",
       "            setTimeout(function() {\n",
       "                var nbb_cell_id = 79;\n",
       "                var nbb_unformatted_code = \"check_for_filled_orders_in_next_delta_seconds(position, trades, Delta=20)\";\n",
       "                var nbb_formatted_code = \"check_for_filled_orders_in_next_delta_seconds(position, trades, Delta=20)\";\n",
       "                var nbb_cells = Jupyter.notebook.get_cells();\n",
       "                for (var i = 0; i < nbb_cells.length; ++i) {\n",
       "                    if (nbb_cells[i].input_prompt_number == nbb_cell_id) {\n",
       "                        if (nbb_cells[i].get_text() == nbb_unformatted_code) {\n",
       "                             nbb_cells[i].set_text(nbb_formatted_code);\n",
       "                        }\n",
       "                        break;\n",
       "                    }\n",
       "                }\n",
       "            }, 500);\n",
       "            "
      ],
      "text/plain": [
       "<IPython.core.display.Javascript object>"
      ]
     },
     "metadata": {},
     "output_type": "display_data"
    }
   ],
   "source": [
    "check_for_filled_orders_in_next_delta_seconds(position, trades, Delta=20)"
   ]
  },
  {
   "cell_type": "markdown",
   "id": "6ee313d0",
   "metadata": {},
   "source": [
    "## Function that engages a `position`:\n",
    "- **Takes the `dict position`, `order book` and `trades groupby timestamp` as inputs.**\n",
    "- **Update the dict depending on the strategy used, whether it is `strategy 1` or `strategy 2` that is triggered, depending on the last event (a trade, or an order book)**"
   ]
  },
  {
   "cell_type": "code",
   "execution_count": 80,
   "id": "f1ba21ec",
   "metadata": {},
   "outputs": [
    {
     "data": {
      "application/javascript": [
       "\n",
       "            setTimeout(function() {\n",
       "                var nbb_cell_id = 80;\n",
       "                var nbb_unformatted_code = \"def engage_position(\\n    position: dict,\\n    orderbook: pd.DataFrame,\\n    trades_groupby_timestamp: pd.DataFrame,\\n    n: int,\\n):\\n\\n    if (\\n        position[\\\"current_position\\\"] == False\\n        and position[\\\"usd_inventory\\\"] >= 50\\n        and position[\\\"crypto_inventory\\\"] >= 50\\n    ):\\n\\n        bid, ask = submit_bid_ask_quotes(\\n            position[\\\"time\\\"], order_book, trades_groupby_timestamp, n\\n        )\\n        position[\\\"current_position\\\"] = True\\n        position[\\\"bid\\\"] = bid\\n        position[\\\"ask\\\"] = ask\\n        position[\\\"bid_touched\\\"] = False\\n        position[\\\"ask_touched\\\"] = False\\n\\n        return position\\n\\n    else:\\n\\n        print(\\\"Not enough inventory or already got a position\\\")\\n        return position\";\n",
       "                var nbb_formatted_code = \"def engage_position(\\n    position: dict,\\n    orderbook: pd.DataFrame,\\n    trades_groupby_timestamp: pd.DataFrame,\\n    n: int,\\n):\\n\\n    if (\\n        position[\\\"current_position\\\"] == False\\n        and position[\\\"usd_inventory\\\"] >= 50\\n        and position[\\\"crypto_inventory\\\"] >= 50\\n    ):\\n\\n        bid, ask = submit_bid_ask_quotes(\\n            position[\\\"time\\\"], order_book, trades_groupby_timestamp, n\\n        )\\n        position[\\\"current_position\\\"] = True\\n        position[\\\"bid\\\"] = bid\\n        position[\\\"ask\\\"] = ask\\n        position[\\\"bid_touched\\\"] = False\\n        position[\\\"ask_touched\\\"] = False\\n\\n        return position\\n\\n    else:\\n\\n        print(\\\"Not enough inventory or already got a position\\\")\\n        return position\";\n",
       "                var nbb_cells = Jupyter.notebook.get_cells();\n",
       "                for (var i = 0; i < nbb_cells.length; ++i) {\n",
       "                    if (nbb_cells[i].input_prompt_number == nbb_cell_id) {\n",
       "                        if (nbb_cells[i].get_text() == nbb_unformatted_code) {\n",
       "                             nbb_cells[i].set_text(nbb_formatted_code);\n",
       "                        }\n",
       "                        break;\n",
       "                    }\n",
       "                }\n",
       "            }, 500);\n",
       "            "
      ],
      "text/plain": [
       "<IPython.core.display.Javascript object>"
      ]
     },
     "metadata": {},
     "output_type": "display_data"
    }
   ],
   "source": [
    "def engage_position(\n",
    "    position: dict,\n",
    "    orderbook: pd.DataFrame,\n",
    "    trades_groupby_timestamp: pd.DataFrame,\n",
    "    n: int,\n",
    "):\n",
    "\n",
    "    if (\n",
    "        position[\"current_position\"] == False\n",
    "        and position[\"usd_inventory\"] >= 50\n",
    "        and position[\"crypto_inventory\"] >= 50\n",
    "    ):\n",
    "\n",
    "        bid, ask = submit_bid_ask_quotes(\n",
    "            position[\"time\"], order_book, trades_groupby_timestamp, n\n",
    "        )\n",
    "        position[\"current_position\"] = True\n",
    "        position[\"bid\"] = bid\n",
    "        position[\"ask\"] = ask\n",
    "        position[\"bid_touched\"] = False\n",
    "        position[\"ask_touched\"] = False\n",
    "\n",
    "        return position\n",
    "\n",
    "    else:\n",
    "\n",
    "        print(\"Not enough inventory or already got a position\")\n",
    "        return position"
   ]
  },
  {
   "cell_type": "markdown",
   "id": "2a377501",
   "metadata": {},
   "source": [
    "### example:"
   ]
  },
  {
   "cell_type": "code",
   "execution_count": 81,
   "id": "0ceaa402",
   "metadata": {},
   "outputs": [
    {
     "data": {
      "application/javascript": [
       "\n",
       "            setTimeout(function() {\n",
       "                var nbb_cell_id = 81;\n",
       "                var nbb_unformatted_code = \"## initial position\\nposition = {\\n    \\\"current_position\\\": False,\\n    \\\"bid\\\": None,\\n    \\\"ask\\\": None,\\n    \\\"bid_touched\\\": True,\\n    \\\"ask_touched\\\": True,\\n    \\\"time\\\": \\\"2020-07-19 00:05:15.038000\\\",\\n    \\\"usd_inventory\\\": 100,\\n    \\\"crypto_inventory\\\": 100,\\n}\";\n",
       "                var nbb_formatted_code = \"## initial position\\nposition = {\\n    \\\"current_position\\\": False,\\n    \\\"bid\\\": None,\\n    \\\"ask\\\": None,\\n    \\\"bid_touched\\\": True,\\n    \\\"ask_touched\\\": True,\\n    \\\"time\\\": \\\"2020-07-19 00:05:15.038000\\\",\\n    \\\"usd_inventory\\\": 100,\\n    \\\"crypto_inventory\\\": 100,\\n}\";\n",
       "                var nbb_cells = Jupyter.notebook.get_cells();\n",
       "                for (var i = 0; i < nbb_cells.length; ++i) {\n",
       "                    if (nbb_cells[i].input_prompt_number == nbb_cell_id) {\n",
       "                        if (nbb_cells[i].get_text() == nbb_unformatted_code) {\n",
       "                             nbb_cells[i].set_text(nbb_formatted_code);\n",
       "                        }\n",
       "                        break;\n",
       "                    }\n",
       "                }\n",
       "            }, 500);\n",
       "            "
      ],
      "text/plain": [
       "<IPython.core.display.Javascript object>"
      ]
     },
     "metadata": {},
     "output_type": "display_data"
    }
   ],
   "source": [
    "## initial position\n",
    "position = {\n",
    "    \"current_position\": False,\n",
    "    \"bid\": None,\n",
    "    \"ask\": None,\n",
    "    \"bid_touched\": True,\n",
    "    \"ask_touched\": True,\n",
    "    \"time\": \"2020-07-19 00:05:15.038000\",\n",
    "    \"usd_inventory\": 100,\n",
    "    \"crypto_inventory\": 100,\n",
    "}"
   ]
  },
  {
   "cell_type": "code",
   "execution_count": 82,
   "id": "0025c6aa",
   "metadata": {},
   "outputs": [
    {
     "data": {
      "application/javascript": [
       "\n",
       "            setTimeout(function() {\n",
       "                var nbb_cell_id = 82;\n",
       "                var nbb_unformatted_code = \"position = engage_position(position, order_book, trades_groupby_timestamp, n=15)\";\n",
       "                var nbb_formatted_code = \"position = engage_position(position, order_book, trades_groupby_timestamp, n=15)\";\n",
       "                var nbb_cells = Jupyter.notebook.get_cells();\n",
       "                for (var i = 0; i < nbb_cells.length; ++i) {\n",
       "                    if (nbb_cells[i].input_prompt_number == nbb_cell_id) {\n",
       "                        if (nbb_cells[i].get_text() == nbb_unformatted_code) {\n",
       "                             nbb_cells[i].set_text(nbb_formatted_code);\n",
       "                        }\n",
       "                        break;\n",
       "                    }\n",
       "                }\n",
       "            }, 500);\n",
       "            "
      ],
      "text/plain": [
       "<IPython.core.display.Javascript object>"
      ]
     },
     "metadata": {},
     "output_type": "display_data"
    }
   ],
   "source": [
    "position = engage_position(position, order_book, trades_groupby_timestamp, n=15)"
   ]
  },
  {
   "cell_type": "code",
   "execution_count": 83,
   "id": "4e9c0463",
   "metadata": {},
   "outputs": [
    {
     "data": {
      "text/plain": [
       "{'current_position': True,\n",
       " 'bid': 2.5989993981983423e-05,\n",
       " 'ask': 2.6010006018016577e-05,\n",
       " 'bid_touched': False,\n",
       " 'ask_touched': False,\n",
       " 'time': '2020-07-19 00:05:15.038000',\n",
       " 'usd_inventory': 100,\n",
       " 'crypto_inventory': 100}"
      ]
     },
     "execution_count": 83,
     "metadata": {},
     "output_type": "execute_result"
    },
    {
     "data": {
      "application/javascript": [
       "\n",
       "            setTimeout(function() {\n",
       "                var nbb_cell_id = 83;\n",
       "                var nbb_unformatted_code = \"position\";\n",
       "                var nbb_formatted_code = \"position\";\n",
       "                var nbb_cells = Jupyter.notebook.get_cells();\n",
       "                for (var i = 0; i < nbb_cells.length; ++i) {\n",
       "                    if (nbb_cells[i].input_prompt_number == nbb_cell_id) {\n",
       "                        if (nbb_cells[i].get_text() == nbb_unformatted_code) {\n",
       "                             nbb_cells[i].set_text(nbb_formatted_code);\n",
       "                        }\n",
       "                        break;\n",
       "                    }\n",
       "                }\n",
       "            }, 500);\n",
       "            "
      ],
      "text/plain": [
       "<IPython.core.display.Javascript object>"
      ]
     },
     "metadata": {},
     "output_type": "display_data"
    }
   ],
   "source": [
    "position"
   ]
  },
  {
   "cell_type": "markdown",
   "id": "95b45a3e",
   "metadata": {},
   "source": [
    "## Function that `closes` a position\n",
    "- **it looks `Delta second` later from the time of the submission of the position.**\n",
    "-**if only one side has been filled or no side at all, we close the remaining order and update the inventories accordingly. We then return the dict position.**\n",
    "- **if both sides have been filled, we compute the resulting spread benefit, update the inventories accordingly, and return the dict position.**"
   ]
  },
  {
   "cell_type": "code",
   "execution_count": 84,
   "id": "53c633a4",
   "metadata": {},
   "outputs": [
    {
     "data": {
      "application/javascript": [
       "\n",
       "            setTimeout(function() {\n",
       "                var nbb_cell_id = 84;\n",
       "                var nbb_unformatted_code = \"def close_position(position, orderbook, trades, Delta):\\n    \\n    if position[\\\"current_position\\\"] == False:\\n\\n        print('Position already closed')\\n        return position\\n    \\n    position = check_for_filled_orders_in_next_delta_seconds(\\n    position, trades, Delta\\n    )\\n\\n    if position[\\\"bid_touched\\\"] and position[\\\"ask_touched\\\"]:\\n        \\n        position[\\\"usd_inventory\\\"] += (\\n                    position[\\\"ask\\\"] - position[\\\"bid\\\"]\\n                )  ## winning the spread\\n        position[\\\"bid\\\"] = None\\n        position[\\\"ask\\\"] = None\\n        position[\\\"bid_touched\\\"] = True\\n        position[\\\"ask_touched\\\"] = True\\n        position[\\\"current_position\\\"] = False\\n\\n        return position\\n\\n    if position[\\\"bid_touched\\\"]: ## if only the bid has been filled, update inventory accordingly\\n\\n        position[\\\"crypto_inventory\\\"] += 1\\n        position[\\\"usd_inventory\\\"] -= position[\\\"bid\\\"]\\n\\n    if position[\\\"ask_touched\\\"]:\\n\\n        position[\\\"crypto_inventory\\\"] -= 1\\n        position[\\\"usd_inventory\\\"] += position[\\\"ask\\\"]\\n\\n\\n    position[\\\"current_position\\\"] = False\\n    position[\\\"bid\\\"] = None\\n    position[\\\"ask\\\"] = None\\n    position[\\\"bid_touched\\\"] = True\\n    position[\\\"ask_touched\\\"] = True\\n\\n    return position\";\n",
       "                var nbb_formatted_code = \"def close_position(position, orderbook, trades, Delta):\\n\\n    if position[\\\"current_position\\\"] == False:\\n\\n        print(\\\"Position already closed\\\")\\n        return position\\n\\n    position = check_for_filled_orders_in_next_delta_seconds(position, trades, Delta)\\n\\n    if position[\\\"bid_touched\\\"] and position[\\\"ask_touched\\\"]:\\n\\n        position[\\\"usd_inventory\\\"] += (\\n            position[\\\"ask\\\"] - position[\\\"bid\\\"]\\n        )  ## winning the spread\\n        position[\\\"bid\\\"] = None\\n        position[\\\"ask\\\"] = None\\n        position[\\\"bid_touched\\\"] = True\\n        position[\\\"ask_touched\\\"] = True\\n        position[\\\"current_position\\\"] = False\\n\\n        return position\\n\\n    if position[\\n        \\\"bid_touched\\\"\\n    ]:  ## if only the bid has been filled, update inventory accordingly\\n\\n        position[\\\"crypto_inventory\\\"] += 1\\n        position[\\\"usd_inventory\\\"] -= position[\\\"bid\\\"]\\n\\n    if position[\\\"ask_touched\\\"]:\\n\\n        position[\\\"crypto_inventory\\\"] -= 1\\n        position[\\\"usd_inventory\\\"] += position[\\\"ask\\\"]\\n\\n    position[\\\"current_position\\\"] = False\\n    position[\\\"bid\\\"] = None\\n    position[\\\"ask\\\"] = None\\n    position[\\\"bid_touched\\\"] = True\\n    position[\\\"ask_touched\\\"] = True\\n\\n    return position\";\n",
       "                var nbb_cells = Jupyter.notebook.get_cells();\n",
       "                for (var i = 0; i < nbb_cells.length; ++i) {\n",
       "                    if (nbb_cells[i].input_prompt_number == nbb_cell_id) {\n",
       "                        if (nbb_cells[i].get_text() == nbb_unformatted_code) {\n",
       "                             nbb_cells[i].set_text(nbb_formatted_code);\n",
       "                        }\n",
       "                        break;\n",
       "                    }\n",
       "                }\n",
       "            }, 500);\n",
       "            "
      ],
      "text/plain": [
       "<IPython.core.display.Javascript object>"
      ]
     },
     "metadata": {},
     "output_type": "display_data"
    }
   ],
   "source": [
    "def close_position(position, orderbook, trades, Delta):\n",
    "    \n",
    "    if position[\"current_position\"] == False:\n",
    "\n",
    "        print('Position already closed')\n",
    "        return position\n",
    "    \n",
    "    position = check_for_filled_orders_in_next_delta_seconds(\n",
    "    position, trades, Delta\n",
    "    )\n",
    "\n",
    "    if position[\"bid_touched\"] and position[\"ask_touched\"]:\n",
    "        \n",
    "        position[\"usd_inventory\"] += (\n",
    "                    position[\"ask\"] - position[\"bid\"]\n",
    "                )  ## winning the spread\n",
    "        position[\"bid\"] = None\n",
    "        position[\"ask\"] = None\n",
    "        position[\"bid_touched\"] = True\n",
    "        position[\"ask_touched\"] = True\n",
    "        position[\"current_position\"] = False\n",
    "\n",
    "        return position\n",
    "\n",
    "    if position[\"bid_touched\"]: ## if only the bid has been filled, update inventory accordingly\n",
    "\n",
    "        position[\"crypto_inventory\"] += 1\n",
    "        position[\"usd_inventory\"] -= position[\"bid\"]\n",
    "\n",
    "    if position[\"ask_touched\"]:\n",
    "\n",
    "        position[\"crypto_inventory\"] -= 1\n",
    "        position[\"usd_inventory\"] += position[\"ask\"]\n",
    "\n",
    "\n",
    "    position[\"current_position\"] = False\n",
    "    position[\"bid\"] = None\n",
    "    position[\"ask\"] = None\n",
    "    position[\"bid_touched\"] = True\n",
    "    position[\"ask_touched\"] = True\n",
    "\n",
    "    return position\n"
   ]
  },
  {
   "cell_type": "code",
   "execution_count": 85,
   "id": "5eb35517",
   "metadata": {},
   "outputs": [
    {
     "data": {
      "text/plain": [
       "{'current_position': False,\n",
       " 'bid': None,\n",
       " 'ask': None,\n",
       " 'bid_touched': True,\n",
       " 'ask_touched': True,\n",
       " 'time': '2020-07-19 00:05:20.038000',\n",
       " 'usd_inventory': 100,\n",
       " 'crypto_inventory': 100}"
      ]
     },
     "execution_count": 85,
     "metadata": {},
     "output_type": "execute_result"
    },
    {
     "data": {
      "application/javascript": [
       "\n",
       "            setTimeout(function() {\n",
       "                var nbb_cell_id = 85;\n",
       "                var nbb_unformatted_code = \"position = close_position(position, order_book, trades, Delta=5)\\nposition\";\n",
       "                var nbb_formatted_code = \"position = close_position(position, order_book, trades, Delta=5)\\nposition\";\n",
       "                var nbb_cells = Jupyter.notebook.get_cells();\n",
       "                for (var i = 0; i < nbb_cells.length; ++i) {\n",
       "                    if (nbb_cells[i].input_prompt_number == nbb_cell_id) {\n",
       "                        if (nbb_cells[i].get_text() == nbb_unformatted_code) {\n",
       "                             nbb_cells[i].set_text(nbb_formatted_code);\n",
       "                        }\n",
       "                        break;\n",
       "                    }\n",
       "                }\n",
       "            }, 500);\n",
       "            "
      ],
      "text/plain": [
       "<IPython.core.display.Javascript object>"
      ]
     },
     "metadata": {},
     "output_type": "display_data"
    }
   ],
   "source": [
    "position = close_position(position, order_book, trades, Delta=5)\n",
    "position"
   ]
  },
  {
   "cell_type": "code",
   "execution_count": null,
   "id": "151301e1",
   "metadata": {},
   "outputs": [],
   "source": []
  }
 ],
 "metadata": {
  "kernelspec": {
   "display_name": "Python 3",
   "language": "python",
   "name": "python3"
  },
  "language_info": {
   "codemirror_mode": {
    "name": "ipython",
    "version": 3
   },
   "file_extension": ".py",
   "mimetype": "text/x-python",
   "name": "python",
   "nbconvert_exporter": "python",
   "pygments_lexer": "ipython3",
   "version": "3.9.7"
  }
 },
 "nbformat": 4,
 "nbformat_minor": 5
}
